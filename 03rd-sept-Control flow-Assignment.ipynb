{
 "cells": [
  {
   "cell_type": "markdown",
   "id": "e7a686f4-0978-4013-8d91-3780ca8ff28e",
   "metadata": {},
   "source": [
    "Basic If-Else Statements:"
   ]
  },
  {
   "cell_type": "markdown",
   "id": "a1037536-eee9-4d67-8e1a-10b559cb5f96",
   "metadata": {},
   "source": [
    "1. Write a Python program to check if a given number is positive or negative."
   ]
  },
  {
   "cell_type": "code",
   "execution_count": 5,
   "id": "ee96706f-cb21-4425-8296-a31d2f0f7da3",
   "metadata": {},
   "outputs": [
    {
     "name": "stdin",
     "output_type": "stream",
     "text": [
      "Enter any number: -1\n"
     ]
    },
    {
     "name": "stdout",
     "output_type": "stream",
     "text": [
      "-1 is a negetive number\n"
     ]
    }
   ],
   "source": [
    "num = int(input('Enter any number:'))\n",
    "if num < 0 :\n",
    "    print(f'{num} is a negetive number')\n",
    "else:\n",
    "    print(f'{num} is a postive number')"
   ]
  },
  {
   "cell_type": "markdown",
   "id": "04927cd2-034b-406a-8767-d52026b8c601",
   "metadata": {},
   "source": [
    "2. Create a program that determines if a person is eligible to vote based on their age."
   ]
  },
  {
   "cell_type": "code",
   "execution_count": 10,
   "id": "44b21a85-23df-4478-998b-30908907bea2",
   "metadata": {},
   "outputs": [
    {
     "name": "stdin",
     "output_type": "stream",
     "text": [
      "Enter your age 10\n"
     ]
    },
    {
     "name": "stdout",
     "output_type": "stream",
     "text": [
      "You are not eligibe for vote\n"
     ]
    }
   ],
   "source": [
    "age = int(input('Enter your age'))\n",
    "if age < 18 :\n",
    "    print('You are not eligibe for vote')\n",
    "else:\n",
    "    print('You are eligible to vote')"
   ]
  },
  {
   "cell_type": "markdown",
   "id": "bdba6c48-cff6-435c-832e-eefe5c7ea23d",
   "metadata": {},
   "source": [
    "3. Develop a program to find the maximum of two numbers using if-else statements."
   ]
  },
  {
   "cell_type": "code",
   "execution_count": 15,
   "id": "5d457962-1104-4256-adc6-c0b75ff22213",
   "metadata": {},
   "outputs": [
    {
     "name": "stdin",
     "output_type": "stream",
     "text": [
      "Enter a number to compare : 5\n",
      "Enter a number to compare : 4\n"
     ]
    },
    {
     "name": "stdout",
     "output_type": "stream",
     "text": [
      "5 is bigger number\n"
     ]
    }
   ],
   "source": [
    "num1 = int(input('Enter a number to compare :'))\n",
    "num2 = int(input('Enter a number to compare :'))\n",
    "if num1 < num2:\n",
    "    print(f'{num2} is bigger number')\n",
    "else:\n",
    "    print(f'{num1} is bigger number')"
   ]
  },
  {
   "cell_type": "markdown",
   "id": "4a40e164-b094-4be6-a035-6425e618bec3",
   "metadata": {},
   "source": [
    "4. Write a Python script to classify a given year as a leap year or not."
   ]
  },
  {
   "cell_type": "code",
   "execution_count": 11,
   "id": "decfeb6b-c1ce-40a7-9d62-a45421c5987d",
   "metadata": {},
   "outputs": [
    {
     "name": "stdin",
     "output_type": "stream",
     "text": [
      "Enter Year: 2024\n"
     ]
    },
    {
     "name": "stdout",
     "output_type": "stream",
     "text": [
      "2024 is not a leap year\n"
     ]
    }
   ],
   "source": [
    "year = int(input('Enter Year:'))\n",
    "if year % 4 == 0 and year % 400 == 0:\n",
    "    print(f'{year} is a leap year')\n",
    "else:\n",
    "    print(f'{year} is not a leap year')"
   ]
  },
  {
   "cell_type": "markdown",
   "id": "d154133e-0e83-44aa-a637-83286c145f3c",
   "metadata": {},
   "source": [
    "5. Create a program that checks whether a character is a vowel or a consonant."
   ]
  },
  {
   "cell_type": "code",
   "execution_count": 46,
   "id": "219de7ae-4786-489f-9ad1-e83469a89bf1",
   "metadata": {},
   "outputs": [
    {
     "name": "stdout",
     "output_type": "stream",
     "text": [
      "Its a vowel\n"
     ]
    }
   ],
   "source": [
    "def check_vowel(n):\n",
    "    vowels = 'AEIOUaeiou'\n",
    "    for i in vowels:\n",
    "        if n in i:\n",
    "            return 'Its a vowel'\n",
    "    return 'Its a consonant'\n",
    "print(check_vowel('A'))"
   ]
  },
  {
   "cell_type": "markdown",
   "id": "bc78759e-61bf-45c7-9dbb-ff487768e7ea",
   "metadata": {},
   "source": [
    "6. Implement a program to determine whether a given number is even or odd."
   ]
  },
  {
   "cell_type": "code",
   "execution_count": 51,
   "id": "08b25151-0e61-4c88-a790-f8724ef5da4d",
   "metadata": {},
   "outputs": [
    {
     "name": "stdin",
     "output_type": "stream",
     "text": [
      "Enter any number to check its even or odd : 4\n"
     ]
    },
    {
     "name": "stdout",
     "output_type": "stream",
     "text": [
      "4 is even number\n"
     ]
    }
   ],
   "source": [
    "def check_even_odd(n):\n",
    "    if n % 2 == 0:\n",
    "        return f'{n} is even number'\n",
    "    return f'{n} is odd number'\n",
    "result = int(input('Enter any number to check its even or odd :'))\n",
    "print(check_even_odd(result))"
   ]
  },
  {
   "cell_type": "markdown",
   "id": "496dc619-0d73-46ad-9aec-56e5e0a24872",
   "metadata": {},
   "source": [
    "7. Write a Python function to calculate the absolute value of a number without using the `abs()` function."
   ]
  },
  {
   "cell_type": "code",
   "execution_count": 59,
   "id": "389cefaf-b971-40c1-8f9a-4fdc0601ce6c",
   "metadata": {},
   "outputs": [
    {
     "name": "stdout",
     "output_type": "stream",
     "text": [
      "5\n"
     ]
    }
   ],
   "source": [
    "def absolute_value(num):\n",
    "    if num < 0:\n",
    "        return -num\n",
    "    else:\n",
    "        return num\n",
    "result = absolute_value(-5)\n",
    "print(result)"
   ]
  },
  {
   "cell_type": "markdown",
   "id": "96a59726-66f0-41c4-a87e-da7fff9fe1b2",
   "metadata": {},
   "source": [
    "8. Develop a program that determines the largest of three given numbers using if-else statements."
   ]
  },
  {
   "cell_type": "code",
   "execution_count": 2,
   "id": "83786eca-0e17-4bdb-8752-39a897689306",
   "metadata": {},
   "outputs": [
    {
     "name": "stdin",
     "output_type": "stream",
     "text": [
      "Enter first number: 7\n",
      "Enter second number: 6\n",
      "Enter  number: 2\n"
     ]
    },
    {
     "name": "stdout",
     "output_type": "stream",
     "text": [
      "7 is bigger number\n"
     ]
    }
   ],
   "source": [
    "num1 = int(input('Enter first number:'))\n",
    "num2 = int(input('Enter second number:'))\n",
    "num3 = int(input('Enter  number:'))\n",
    "if num1 > num2 and num1 > num3:\n",
    "    print(f'{num1} is bigger number')\n",
    "elif num2 > num1 and num2 > num3:\n",
    "    print(f'{num2} is bigger number')\n",
    "else:\n",
    "    print(f'{num3} is bigger number')"
   ]
  },
  {
   "cell_type": "markdown",
   "id": "97084fff-b6fe-44f3-b11f-eb5b571f4208",
   "metadata": {},
   "source": [
    "9. Create a program that checks if a given string is a palindrome."
   ]
  },
  {
   "cell_type": "code",
   "execution_count": 6,
   "id": "894f6fcc-e806-4596-b9ac-0c37349e301f",
   "metadata": {},
   "outputs": [
    {
     "name": "stdin",
     "output_type": "stream",
     "text": [
      "Enter a string to check its a palindrome: malayalam\n"
     ]
    },
    {
     "name": "stdout",
     "output_type": "stream",
     "text": [
      "malayalam is a palindrome\n"
     ]
    }
   ],
   "source": [
    "string = str(input('Enter a string to check its a palindrome:'))\n",
    "if string == string[::-1]:\n",
    "    print(f'{string} is a palindrome')\n",
    "else:\n",
    "    print(f'{string} is not a palindrome')"
   ]
  },
  {
   "cell_type": "markdown",
   "id": "ef82a9b3-5e62-482d-94f1-711870a3fbab",
   "metadata": {},
   "source": [
    "10. Write a Python program to calculate the grade based on a student's score."
   ]
  },
  {
   "cell_type": "code",
   "execution_count": 19,
   "id": "ef6ee652-e291-4f9a-9ec0-145e08b33d12",
   "metadata": {},
   "outputs": [
    {
     "name": "stdin",
     "output_type": "stream",
     "text": [
      "Enter student mark: 68\n"
     ]
    },
    {
     "name": "stdout",
     "output_type": "stream",
     "text": [
      "Good\n"
     ]
    }
   ],
   "source": [
    "mark = int(input('Enter student mark:'))\n",
    "if mark >= 80 and mark <= 100 :\n",
    "    print('Excelent')\n",
    "elif mark >= 60 and mark < 80:\n",
    "    print('Good')\n",
    "elif mark >= 30 and mark < 60:\n",
    "    print('Average')\n",
    "else:\n",
    "    print('Fail')"
   ]
  },
  {
   "cell_type": "markdown",
   "id": "c972ada8-ccca-4ccf-9398-123d7d538d09",
   "metadata": {},
   "source": [
    "Nested If-Else Statements:"
   ]
  },
  {
   "cell_type": "markdown",
   "id": "cf80276d-1a78-4ae2-8f64-031e9c4b99e7",
   "metadata": {},
   "source": [
    "11. Write a program to find the largest among three numbers using nested if-else statements."
   ]
  },
  {
   "cell_type": "code",
   "execution_count": 21,
   "id": "c99e7092-fb14-46cd-b06d-613b282d3551",
   "metadata": {},
   "outputs": [
    {
     "name": "stdin",
     "output_type": "stream",
     "text": [
      "Enter first number: 50\n",
      "Enter second number: 40\n",
      "Enter  number: 30\n"
     ]
    },
    {
     "name": "stdout",
     "output_type": "stream",
     "text": [
      "50 is bigger number\n"
     ]
    }
   ],
   "source": [
    "num1 = int(input('Enter first number:'))\n",
    "num2 = int(input('Enter second number:'))\n",
    "num3 = int(input('Enter  number:'))\n",
    "if num1 > num2 and num1 > num3:\n",
    "    print(f'{num1} is bigger number')\n",
    "else:\n",
    "    if num2 > num1 and num2 > num3:\n",
    "        print(f'{num2} is bigger number')\n",
    "    else:\n",
    "        print(f'{num3} is bigger number')"
   ]
  },
  {
   "cell_type": "markdown",
   "id": "21f3015f-86d6-4735-bbae-1c89d749c658",
   "metadata": {},
   "source": [
    "12. Implement a program to determine if a triangle is equilateral, isosceles, or scalene."
   ]
  },
  {
   "cell_type": "code",
   "execution_count": 2,
   "id": "49f51776-0f35-4b5a-a512-787d46a1cade",
   "metadata": {},
   "outputs": [
    {
     "name": "stdout",
     "output_type": "stream",
     "text": [
      "Equilateral\n"
     ]
    }
   ],
   "source": [
    "def triangle(a,b,c):\n",
    "    if a == b == c:\n",
    "        return 'Equilateral'\n",
    "    elif a == b or b == c or a == c:\n",
    "        return 'isosceles'\n",
    "    else:\n",
    "        return 'scalene'\n",
    "a = 5 \n",
    "b = 5\n",
    "c = 5\n",
    "print(triangle(a,b,c))"
   ]
  },
  {
   "cell_type": "markdown",
   "id": "aec676b1-95bd-4f0a-8d40-4d1accfe7655",
   "metadata": {},
   "source": [
    "13. Develop a program that checks if a year is a leap year and also if it is a century year."
   ]
  },
  {
   "cell_type": "code",
   "execution_count": 40,
   "id": "d1946082-35b5-4d62-86a4-8de4537d763e",
   "metadata": {},
   "outputs": [
    {
     "name": "stdin",
     "output_type": "stream",
     "text": [
      "Enter a year: 2100\n"
     ]
    },
    {
     "name": "stdout",
     "output_type": "stream",
     "text": [
      "2100 not a leap year\n",
      "2100 is a century year not a leap year\n"
     ]
    }
   ],
   "source": [
    "def check_leap(n):\n",
    "    if n % 4 == 0:\n",
    "        if n % 100 == 0:\n",
    "            if n % 400 == 0 :\n",
    "                return 'leap'\n",
    "        else:\n",
    "            return True\n",
    "def check_century(n):\n",
    "    if n % 100 == 0:\n",
    "        return True\n",
    "def check_leap_century():\n",
    "    try:\n",
    "        year = int(input('Enter a year:'))\n",
    "        if check_leap(year):\n",
    "            if check_century(year):\n",
    "                print(f'{year} is a century')\n",
    "            print(f'{year} is a leap year')\n",
    "        else:\n",
    "            print(f'{year} not a leap year')\n",
    "            if check_century(year):\n",
    "                print(f'{year} is a century year not a leap year')\n",
    "    except ValueError:\n",
    "        print('Enter a valid Number')\n",
    "\n",
    "if __name__ == \"__main__\":\n",
    "    check_leap_century()"
   ]
  },
  {
   "cell_type": "markdown",
   "id": "b3daea48-50d8-4049-b4d9-5b6d2a6c8a0d",
   "metadata": {},
   "source": [
    "14. Write a Python script to determine if a number is positive, negative, or zero."
   ]
  },
  {
   "cell_type": "code",
   "execution_count": 21,
   "id": "12aaa166-447d-45ca-8169-12fc34ca9bdb",
   "metadata": {},
   "outputs": [
    {
     "name": "stdout",
     "output_type": "stream",
     "text": [
      "negative\n"
     ]
    }
   ],
   "source": [
    "def check_number(n):\n",
    "    if n < 0:\n",
    "        print('negative')\n",
    "    elif n == 0:\n",
    "        print('its a zero')\n",
    "    else:\n",
    "        print('its a positive')\n",
    "check_number(-1)"
   ]
  },
  {
   "cell_type": "markdown",
   "id": "19c0bfea-662c-4595-acfc-2761711101a1",
   "metadata": {},
   "source": [
    "15. Create a program to check if a person is a teenager (between 13 and 19 years old)."
   ]
  },
  {
   "cell_type": "code",
   "execution_count": 30,
   "id": "221300fb-dd02-4381-9d50-de2a09e78e8c",
   "metadata": {},
   "outputs": [
    {
     "name": "stdout",
     "output_type": "stream",
     "text": [
      "Teenager\n"
     ]
    }
   ],
   "source": [
    "def age_check(n):\n",
    "    if n >= 13 and n <= 19:\n",
    "        print('Teenager')\n",
    "    else:\n",
    "        print('Not a teenager')\n",
    "age_check(19)"
   ]
  },
  {
   "cell_type": "markdown",
   "id": "11a2052d-4731-41ae-aecb-0b9f5712bd0e",
   "metadata": {},
   "source": [
    "16. Develop a program that determines the type of angle based on its measure (acute, obtuse, or right)."
   ]
  },
  {
   "cell_type": "code",
   "execution_count": 28,
   "id": "0f3061c9-ff86-4fa6-9f32-5a59b1518bc1",
   "metadata": {},
   "outputs": [
    {
     "name": "stdout",
     "output_type": "stream",
     "text": [
      "acute angle\n"
     ]
    }
   ],
   "source": [
    "def angle_check(n):\n",
    "    if n > 0 and n < 90:\n",
    "        print('acute angle')\n",
    "    elif n == 90:\n",
    "        print('right angle')\n",
    "    elif n > 90 and n < 180:\n",
    "        print('obtuse angle')\n",
    "    else :\n",
    "        print('invalid')\n",
    "angle_check(10)"
   ]
  },
  {
   "cell_type": "markdown",
   "id": "39305af5-f5ab-4f4d-8910-711b95bcdeb4",
   "metadata": {},
   "source": [
    "17. Write a Python program to calculate the roots of a quadratic equation."
   ]
  },
  {
   "cell_type": "code",
   "execution_count": 27,
   "id": "0f3e9f3a-5e12-4c0f-bd21-bc6d716da079",
   "metadata": {},
   "outputs": [
    {
     "name": "stdin",
     "output_type": "stream",
     "text": [
      "Enter the coefficient of x^2 (a):  2\n",
      "Enter the coefficient of x (b):  -3\n",
      "Enter the constant term (c):  0.5\n"
     ]
    },
    {
     "name": "stdout",
     "output_type": "stream",
     "text": [
      "The roots are real numbers:\n",
      "Root 1: 1.3090169943749475\n",
      "Root 2: 0.19098300562505255\n"
     ]
    }
   ],
   "source": [
    "import math\n",
    "\n",
    "def quadratic_roots(a, b, c):\n",
    "    discriminant = b**2 - 4*a*c\n",
    "\n",
    "    if discriminant > 0:\n",
    "        root1 = (-b + math.sqrt(discriminant)) / (2*a)\n",
    "        root2 = (-b - math.sqrt(discriminant)) / (2*a)\n",
    "        return root1, root2\n",
    "    elif discriminant == 0:\n",
    "        root = -b / (2*a)\n",
    "        return root, root\n",
    "    else:\n",
    "        real_part = -b / (2*a)\n",
    "        imaginary_part = math.sqrt(abs(discriminant)) / (2*a)\n",
    "        root1 = complex(real_part, imaginary_part)\n",
    "        root2 = complex(real_part, -imaginary_part)\n",
    "        return root1, root2\n",
    "    \n",
    "a = float(input(\"Enter the coefficient of x^2 (a): \"))\n",
    "b = float(input(\"Enter the coefficient of x (b): \"))\n",
    "c = float(input(\"Enter the constant term (c): \"))\n",
    "\n",
    "roots = quadratic_roots(a, b, c)\n",
    "\n",
    "if isinstance(roots[0], complex):\n",
    "    print(\"The roots are complex numbers:\")\n",
    "    print(\"Root 1:\", roots[0])\n",
    "    print(\"Root 2:\", roots[1])\n",
    "else:\n",
    "    print(\"The roots are real numbers:\")\n",
    "    print(\"Root 1:\", roots[0])\n",
    "    print(\"Root 2:\", roots[1])"
   ]
  },
  {
   "cell_type": "markdown",
   "id": "576df127-e453-4695-b870-75ac089e7ebe",
   "metadata": {},
   "source": [
    "18. Implement a program to determine the day of the week based on a user-provided number (1 for Monday, 2\n",
    "for Tuesday, etc.)."
   ]
  },
  {
   "cell_type": "code",
   "execution_count": 1,
   "id": "4fc604e9-2897-44ba-b22c-ebded02f214f",
   "metadata": {},
   "outputs": [
    {
     "name": "stdout",
     "output_type": "stream",
     "text": [
      "Thursday\n"
     ]
    }
   ],
   "source": [
    "def days_week(n):\n",
    "    days = {1:'Monday', 2:'Tuesday', 3:'Wednesday', 4:'Thursday', 5:'Friday', 6:'Satuarday', 7:'Sunday'}\n",
    "    if n > 7 and n <= 0:\n",
    "        print('valid number')\n",
    "    for i in days.keys():\n",
    "        if i == n:\n",
    "            print(days[i])\n",
    "days_week(4)"
   ]
  },
  {
   "cell_type": "markdown",
   "id": "ee71e66d-4a96-401e-bbdf-821136cbeb50",
   "metadata": {},
   "source": [
    "19. Create a program that determines if a year is a leap year and also if it is evenly divisible by 400."
   ]
  },
  {
   "cell_type": "code",
   "execution_count": 2,
   "id": "aea283bd-2752-4073-93fc-79acd9edf0e6",
   "metadata": {},
   "outputs": [
    {
     "name": "stdin",
     "output_type": "stream",
     "text": [
      "Enter a year: 2100\n"
     ]
    },
    {
     "name": "stdout",
     "output_type": "stream",
     "text": [
      "not a leap year\n"
     ]
    }
   ],
   "source": [
    "year = int(input('Enter a year:'))\n",
    "if (year % 4 == 0 and year % 100 != 0) or (year % 400 == 0):\n",
    "    print(f'{year} is a leap year')\n",
    "else:\n",
    "    print('not a leap year')"
   ]
  },
  {
   "cell_type": "markdown",
   "id": "41a96024-c396-4d4f-a98b-32d2d0d91a59",
   "metadata": {},
   "source": [
    "20. Develop a program that checks if a given number is prime or not using nested if-else statements."
   ]
  },
  {
   "cell_type": "code",
   "execution_count": 21,
   "id": "b5b70f61-6975-4830-829c-f27f3e88bc0f",
   "metadata": {},
   "outputs": [
    {
     "name": "stdout",
     "output_type": "stream",
     "text": [
      "Prime\n"
     ]
    }
   ],
   "source": [
    "def is_prime(n):\n",
    "    if n < 2 :\n",
    "        print('Not a prime')\n",
    "    else:\n",
    "        for i in range(2, int(n**0.5) + 1):\n",
    "            if n % i == 0:\n",
    "                print('Not a prime')\n",
    "                break\n",
    "        else:\n",
    "            print('Prime')\n",
    "is_prime(7)"
   ]
  },
  {
   "cell_type": "markdown",
   "id": "d2902ddb-43d5-476a-a417-b7ebaf999222",
   "metadata": {},
   "source": [
    "Elif Statements:"
   ]
  },
  {
   "cell_type": "markdown",
   "id": "0c26f245-b04f-4267-8517-977c80dd141a",
   "metadata": {},
   "source": [
    "21. Write a Python program to assign grades based on different ranges of scores using elif statements."
   ]
  },
  {
   "cell_type": "code",
   "execution_count": 20,
   "id": "6ddce373-3cda-4e9c-b4a2-9ffa796cf3fe",
   "metadata": {},
   "outputs": [
    {
     "name": "stdout",
     "output_type": "stream",
     "text": [
      "A\n"
     ]
    }
   ],
   "source": [
    "def grade_check(i):\n",
    "    if i >= 0 and i < 30:\n",
    "        print('F')\n",
    "    elif i >= 30 and i < 60:\n",
    "        print('C')\n",
    "    elif i >= 60 and i < 80:\n",
    "        print('B')\n",
    "    elif i >= 80 and i <= 100:\n",
    "        print('A')\n",
    "    elif i < 0 or i > 100:\n",
    "        print('invalid')\n",
    "grade_check(100)"
   ]
  },
  {
   "cell_type": "markdown",
   "id": "627327ac-0b91-41e3-b7be-f85d2bcfb47b",
   "metadata": {},
   "source": [
    "22. Implement a program to determine the type of a triangle based on its angles."
   ]
  },
  {
   "cell_type": "code",
   "execution_count": null,
   "id": "5b2a6e97-0cd2-4729-b9d4-6e6610d1fd67",
   "metadata": {},
   "outputs": [],
   "source": [
    "def triangle_type(angle1, angle2, angle3):\n",
    "    angles = [angle1, angle2, angle3]\n",
    "    angles.sort() \n",
    "    if angles[0] + angles[1] > angles[2]:\n",
    "        if angles[0] == angles[1] == angles[2]:\n",
    "            return \"Equilateral Triangle\"\n",
    "        elif angles[0] == angles[1] or angles[1] == angles[2]:\n",
    "            return \"Isosceles Triangle\"\n",
    "        else:\n",
    "            if angles[2] == 90:\n",
    "                return \"Right-angled Triangle\"\n",
    "            elif angles[2] > 90:\n",
    "                return \"Obtuse-angled Triangle\"\n",
    "            else:\n",
    "                return \"Acute-angled Triangle\"\n",
    "    else:\n",
    "        return \"Invalid Triangle\"\n",
    "try:\n",
    "    angle1 = float(input(\"Enter the first angle: \"))\n",
    "    angle2 = float(input(\"Enter the second angle: \"))\n",
    "    angle3 = float(input(\"Enter the third angle: \"))\n",
    "\n",
    "    result = triangle_type(angle1, angle2, angle3)\n",
    "    print(f\"The triangle is a {result}.\")\n",
    "except ValueError:\n",
    "    print(\"Invalid input! Please enter numeric values for angles.\")"
   ]
  },
  {
   "cell_type": "markdown",
   "id": "38e787ab-1f6d-4123-b235-f1178dc6c829",
   "metadata": {},
   "source": [
    "23. Develop a program to categorize a given person's BMI into underweight, normal, overweight, or obese using\n",
    "elif statements."
   ]
  },
  {
   "cell_type": "code",
   "execution_count": 7,
   "id": "9ede01f1-bcf4-4ced-a916-52da3ac720d5",
   "metadata": {},
   "outputs": [
    {
     "data": {
      "text/plain": [
       "'Overweight'"
      ]
     },
     "execution_count": 7,
     "metadata": {},
     "output_type": "execute_result"
    }
   ],
   "source": [
    "def BMI(n):\n",
    "    if n <= 0:\n",
    "        return 'invalid'\n",
    "    elif n <= 18.5:\n",
    "        return 'underweight'\n",
    "    elif n > 18.5 and n <= 24.5:\n",
    "        return 'Normal'\n",
    "    elif n > 24.5 and n <= 30:\n",
    "        return 'Overweight'\n",
    "    else:\n",
    "        return 'obese'\n",
    "BMI(25)"
   ]
  },
  {
   "cell_type": "markdown",
   "id": "599fdab1-91d1-4005-9b58-0eb9471aa23a",
   "metadata": {},
   "source": [
    "24. Create a program that determines whether a given number is positive, negative, or zero using elif\n",
    "statements."
   ]
  },
  {
   "cell_type": "code",
   "execution_count": 13,
   "id": "501275bb-8d2f-44b8-88e5-02b5c645537d",
   "metadata": {},
   "outputs": [
    {
     "data": {
      "text/plain": [
       "'negative'"
      ]
     },
     "execution_count": 13,
     "metadata": {},
     "output_type": "execute_result"
    }
   ],
   "source": [
    "def check(n):\n",
    "    if n < 0:\n",
    "        return 'negative'\n",
    "    elif n == 0:\n",
    "        return 'zero'\n",
    "    else:\n",
    "        return 'positive'\n",
    "check(-10)"
   ]
  },
  {
   "cell_type": "markdown",
   "id": "d5e5f8b0-cff7-466b-89f8-1f1cc0ed85ab",
   "metadata": {},
   "source": [
    "25. Write a Python script to determine the type of a character (uppercase, lowercase, or special) using elif\n",
    "statements."
   ]
  },
  {
   "cell_type": "code",
   "execution_count": 19,
   "id": "9fee19a4-fbf0-4e2d-a504-b1176ab01e9f",
   "metadata": {},
   "outputs": [
    {
     "data": {
      "text/plain": [
       "'Its a uppercase'"
      ]
     },
     "execution_count": 19,
     "metadata": {},
     "output_type": "execute_result"
    }
   ],
   "source": [
    "def check_char(n):\n",
    "    a = str(n)\n",
    "    if a.isupper():\n",
    "        return 'Its a uppercase'\n",
    "    elif a.islower():\n",
    "        return 'Its a lowercase'\n",
    "    elif a.isalnum():\n",
    "        return 'Its a special character'\n",
    "    else:\n",
    "        return 'unknown'\n",
    "a = 'HELLO'\n",
    "check_char(a)"
   ]
  },
  {
   "cell_type": "markdown",
   "id": "7c4b57a9-5752-41dc-9ad7-3eef4a95f047",
   "metadata": {},
   "source": [
    "26. Implement a program to calculate the discounted price based on different purchase amounts using elif\n",
    "statements."
   ]
  },
  {
   "cell_type": "code",
   "execution_count": 62,
   "id": "b866d582-435f-4353-8e0b-28fd4256cced",
   "metadata": {},
   "outputs": [
    {
     "name": "stdin",
     "output_type": "stream",
     "text": [
      "Enter the amount 500\n"
     ]
    },
    {
     "name": "stdout",
     "output_type": "stream",
     "text": [
      "discounted price is 450.0\n"
     ]
    }
   ],
   "source": [
    "def discount_price(price):\n",
    "    if price < 100:\n",
    "        discount = 0\n",
    "    elif price >= 100 and price < 500:\n",
    "        discount = 0.05\n",
    "    elif price >= 500 and price < 1000:\n",
    "        discount = 0.1\n",
    "    else:\n",
    "        discount = 0.15\n",
    "    \n",
    "    discounted = price-(price*discount)\n",
    "    return discounted\n",
    "def main():\n",
    "    price = float(input('Enter the amount'))\n",
    "    result = discount_price(price)\n",
    "    print(f'discounted price is {result}')\n",
    "\n",
    "if __name__ == '__main__':\n",
    "    main()"
   ]
  },
  {
   "cell_type": "markdown",
   "id": "b28e9c26-a97e-49e0-ad34-ed63425fcc53",
   "metadata": {},
   "source": [
    "27. Develop a program to calculate the electricity bill based on different consumption slabs using elif\n",
    "statements."
   ]
  },
  {
   "cell_type": "code",
   "execution_count": 29,
   "id": "606563b9-a33f-4b19-877c-23c35d221315",
   "metadata": {},
   "outputs": [
    {
     "name": "stdout",
     "output_type": "stream",
     "text": [
      "4500\n"
     ]
    }
   ],
   "source": [
    "def Electricity_bill(units):\n",
    "    if (units <= 100):\n",
    "        return units * 10; \n",
    "    elif (units <= 200):\n",
    "        return ((100 * 10) + (units - 100) * 15); \n",
    "    elif (units <= 300):\n",
    "        return ((100 * 10) +\n",
    "                (100 * 15) +\n",
    "                (units - 200) * 20); \n",
    "    elif (units > 300):\n",
    "        return ((100 * 10) +\n",
    "                (100 * 15) +\n",
    "                (100 * 20) +\n",
    "                (units - 300) * 25); \n",
    "    return 0; \n",
    "units = 300\n",
    "print(Electricity_bill(units)); "
   ]
  },
  {
   "cell_type": "markdown",
   "id": "e396010c-2b05-4594-b27c-fe3f19027303",
   "metadata": {},
   "source": [
    "28. Create a program to determine the type of quadrilateral based on its angles and sides using elif\n",
    "statements."
   ]
  },
  {
   "cell_type": "code",
   "execution_count": 7,
   "id": "0acbc34e-98e9-420e-ae7e-25e937c2ccc2",
   "metadata": {},
   "outputs": [
    {
     "name": "stdout",
     "output_type": "stream",
     "text": [
      "The quadrilateral is a: Parallelogram\n"
     ]
    }
   ],
   "source": [
    "def check_quadrilateral(sides, angles):\n",
    "    num_sides = len(sides)\n",
    "    num_angles = len(angles)\n",
    "    \n",
    "    if num_sides != 4 or num_angles != 4:\n",
    "        return \"Invalid input: Quadrilateral must have exactly 4 sides and 4 angles.\"\n",
    "    \n",
    "    if all(angle == 90 for angle in angles):\n",
    "        if all(side1 == side2 == side3 == side4 for side1, side2, side3, side4 in zip(sides, sides[1:], sides[2:], sides[3:])):\n",
    "            return \"Square\"\n",
    "        else:\n",
    "            return \"Rectangle\"\n",
    "    elif sides[0] == sides[1] == sides[2] == sides[3]:\n",
    "        if angles[0] == angles[2] and angles[1] == angles[3]:\n",
    "            return \"Rhombus\"\n",
    "        else:\n",
    "            return \"Parallelogram\"\n",
    "    elif sides[0] == sides[2] and sides[1] == sides[3]:\n",
    "        return \"Trapezoid\"\n",
    "    else:\n",
    "        return \"Quadrilateral\"\n",
    "    \n",
    "sides = [4, 4, 4, 4] \n",
    "angles = [90, 90, 90, 0]\n",
    "quadrilateral_type = check_quadrilateral(sides, angles)\n",
    "print(\"The quadrilateral is a:\", quadrilateral_type)"
   ]
  },
  {
   "cell_type": "markdown",
   "id": "a5da3393-387d-4dd2-b1f9-a268bb3ca70c",
   "metadata": {},
   "source": [
    "29. Write a Python script to determine the season based on a user-provided month using elif statements."
   ]
  },
  {
   "cell_type": "code",
   "execution_count": 11,
   "id": "f849b58c-e372-4ff1-a2e0-129e1f2f9e96",
   "metadata": {},
   "outputs": [
    {
     "name": "stdout",
     "output_type": "stream",
     "text": [
      "summer\n"
     ]
    }
   ],
   "source": [
    "def season_month(n):\n",
    "    if n < 1 and n > 12:\n",
    "        print('invalid')\n",
    "    elif n in [2,3,4]:\n",
    "        print('spring')\n",
    "    elif n in [5,6,7]:\n",
    "        print('summer')\n",
    "    elif n in [8,9,10]:\n",
    "        print('autumn')\n",
    "    else:\n",
    "        print('rainy')\n",
    "season_month(5)"
   ]
  },
  {
   "cell_type": "markdown",
   "id": "5683e3c8-9900-49cf-a7be-3a0afd7c0edc",
   "metadata": {},
   "source": [
    "30. Implement a program to determine the type of a year (leap or common) and month (30 or 31 days) using\n",
    "elif statements."
   ]
  },
  {
   "cell_type": "code",
   "execution_count": 14,
   "id": "d7f400f8-e692-4ec1-8a61-56ea2cfca60c",
   "metadata": {},
   "outputs": [
    {
     "name": "stdin",
     "output_type": "stream",
     "text": [
      "Enter the year:  1000\n",
      "Enter the month (as a number):  2\n"
     ]
    },
    {
     "name": "stdout",
     "output_type": "stream",
     "text": [
      "1000 is a common year.\n",
      "Number of days in month 2 is 28\n"
     ]
    }
   ],
   "source": [
    "def leap(year):\n",
    "    if year % 400 == 0:\n",
    "        return True\n",
    "    elif year % 100 == 0:\n",
    "        return False\n",
    "    elif year % 4 == 0:\n",
    "        return True\n",
    "    else:\n",
    "        return False\n",
    "def days_month(month,year):\n",
    "    if month in [4,6,9,11]:\n",
    "        return 31\n",
    "    elif month in [1,3,5,7,8,10,12]:\n",
    "        return 30 \n",
    "    elif month == 2:\n",
    "        if leap(year):\n",
    "            return 29\n",
    "        else:\n",
    "            return 28\n",
    "    else:\n",
    "        return -1\n",
    "try:\n",
    "    year = int(input(\"Enter the year: \"))\n",
    "    month = int(input(\"Enter the month (as a number): \"))\n",
    "    if month < 1 or month > 12:\n",
    "        print(\"Invalid month. Please enter a number between 1 and 12.\")\n",
    "    else:\n",
    "        if leap(year):\n",
    "            print(year, \"is a leap year.\")\n",
    "        else:\n",
    "            print(year, \"is a common year.\")\n",
    "        \n",
    "        days = days_month(month, year)\n",
    "        if days == -1:\n",
    "            print(\"Invalid month.\")\n",
    "        else:\n",
    "            print(\"Number of days in month\", month, \"is\", days)\n",
    "except ValueError:\n",
    "    print(\"Invalid input. Please enter valid numbers for the year and month.\")"
   ]
  },
  {
   "cell_type": "markdown",
   "id": "4ddfcc1e-d0f1-4291-bcc9-bc5240f26299",
   "metadata": {},
   "source": [
    "Assignment Questions\n",
    "Basic Level:"
   ]
  },
  {
   "cell_type": "markdown",
   "id": "038d001d-5938-4565-8068-fe0da2a85119",
   "metadata": {},
   "source": [
    "1. Write a Python program that checks if a given number is positive, negative, or zero."
   ]
  },
  {
   "cell_type": "code",
   "execution_count": 18,
   "id": "dc7d3ddf-a8bb-41dd-92ac-1e6537c8c44b",
   "metadata": {},
   "outputs": [
    {
     "name": "stdin",
     "output_type": "stream",
     "text": [
      "Enter any number : -2\n"
     ]
    },
    {
     "name": "stdout",
     "output_type": "stream",
     "text": [
      "-2 is negative number\n"
     ]
    }
   ],
   "source": [
    "num = int(input('Enter any number :'))\n",
    "if num < 0:\n",
    "    print(f'{num} is negative number')\n",
    "elif num == 0:\n",
    "    print(f'{num} is a zero')\n",
    "elif num > 0:\n",
    "    print(f'{num} is positive number')\n",
    "else:\n",
    "    print('invalid')"
   ]
  },
  {
   "cell_type": "markdown",
   "id": "f02276e8-af87-44b6-ba32-8b9aef8638fa",
   "metadata": {},
   "source": [
    "2. Create a program to determine if a person is eligible to vote based on their age."
   ]
  },
  {
   "cell_type": "code",
   "execution_count": 22,
   "id": "5e53c620-d31d-417b-b77c-bb126a957de6",
   "metadata": {},
   "outputs": [
    {
     "name": "stdin",
     "output_type": "stream",
     "text": [
      "Enter your age 18\n"
     ]
    },
    {
     "name": "stdout",
     "output_type": "stream",
     "text": [
      "You are eligible to vote\n"
     ]
    }
   ],
   "source": [
    "age = int(input('Enter your age'))\n",
    "if age < 18 :\n",
    "    print('You are not eligibe for vote')\n",
    "else:\n",
    "    print('You are eligible to vote')"
   ]
  },
  {
   "cell_type": "markdown",
   "id": "48dff2b0-cc53-42f6-a885-f8a5fac54643",
   "metadata": {},
   "source": [
    "3. Write a program to find the maximum of two given numbers using conditional statements."
   ]
  },
  {
   "cell_type": "code",
   "execution_count": 26,
   "id": "0fc33497-325e-4138-ad62-556d54c4b57f",
   "metadata": {},
   "outputs": [
    {
     "name": "stdin",
     "output_type": "stream",
     "text": [
      "Enter a number 1 to compare : 55\n",
      "Enter a number 2 to compare : 66\n"
     ]
    },
    {
     "name": "stdout",
     "output_type": "stream",
     "text": [
      "66 is bigger number\n"
     ]
    }
   ],
   "source": [
    "num1 = int(input('Enter a number 1 to compare :'))\n",
    "num2 = int(input('Enter a number 2 to compare :'))\n",
    "if num1 < num2:\n",
    "    print(f'{num2} is bigger number')\n",
    "else:\n",
    "    print(f'{num1} is bigger number')"
   ]
  },
  {
   "cell_type": "markdown",
   "id": "a8b5deff-0536-4cb6-9ac8-91c0025980e0",
   "metadata": {},
   "source": [
    "4. Develop a program that calculates the grade of a student based on their exam score."
   ]
  },
  {
   "cell_type": "code",
   "execution_count": 35,
   "id": "7a8ebcf2-1472-4c8d-a488-635c692f7522",
   "metadata": {},
   "outputs": [
    {
     "name": "stdout",
     "output_type": "stream",
     "text": [
      "C\n"
     ]
    }
   ],
   "source": [
    "def grade_check(i):\n",
    "    if i >= 0 and i < 30:\n",
    "        print('F')\n",
    "    elif i >= 30 and i < 60:\n",
    "        print('C')\n",
    "    elif i >= 60 and i < 80:\n",
    "        print('B')\n",
    "    elif i >= 80 and i <= 100:\n",
    "        print('A')\n",
    "    elif i < 0 or i > 100:\n",
    "        print('invalid')\n",
    "grade_check(51)"
   ]
  },
  {
   "cell_type": "markdown",
   "id": "c4cf3b27-8ec8-44da-9555-2fbb5f0c765f",
   "metadata": {},
   "source": [
    "5. Create a program that checks if a year is a leap year or not."
   ]
  },
  {
   "cell_type": "code",
   "execution_count": 45,
   "id": "6f15d994-827c-4201-b65d-178fa813097c",
   "metadata": {},
   "outputs": [
    {
     "data": {
      "text/plain": [
       "'2024 is a leap year'"
      ]
     },
     "execution_count": 45,
     "metadata": {},
     "output_type": "execute_result"
    }
   ],
   "source": [
    "def is_leap(year):\n",
    "    if year % 400 == 0 or year % 100 != 0 and year % 4 == 0:\n",
    "        return f'{year} is a leap year'\n",
    "    else:\n",
    "        return f'{year} is not a leap year'\n",
    "is_leap(2024)"
   ]
  },
  {
   "cell_type": "markdown",
   "id": "bdf7fa1b-f12e-4aec-a900-8d4b9467a02e",
   "metadata": {},
   "source": [
    "6. Write a program to classify a triangle based on its sides' lengths."
   ]
  },
  {
   "cell_type": "code",
   "execution_count": null,
   "id": "feced3fd-5cd7-4b1b-9421-96a4ed3f22c5",
   "metadata": {},
   "outputs": [],
   "source": [
    "def triangle_type(angle1, angle2, angle3):\n",
    "    angles = [angle1, angle2, angle3]\n",
    "    angles.sort() \n",
    "    if angles[0] + angles[1] > angles[2]:\n",
    "        if angles[0] == angles[1] == angles[2]:\n",
    "            return \"Equilateral Triangle\"\n",
    "        elif angles[0] == angles[1] or angles[1] == angles[2]:\n",
    "            return \"Isosceles Triangle\"\n",
    "        else:\n",
    "            if angles[2] == 90:\n",
    "                return \"Right-angled Triangle\"\n",
    "            elif angles[2] > 90:\n",
    "                return \"Obtuse-angled Triangle\"\n",
    "            else:\n",
    "                return \"Acute-angled Triangle\"\n",
    "    else:\n",
    "        return \"Invalid Triangle\"\n",
    "try:\n",
    "    angle1 = float(input(\"Enter the first angle: \"))\n",
    "    angle2 = float(input(\"Enter the second angle: \"))\n",
    "    angle3 = float(input(\"Enter the third angle: \"))\n",
    "\n",
    "    result = triangle_type(angle1, angle2, angle3)\n",
    "    print(f\"The triangle is a {result}.\")\n",
    "except ValueError:\n",
    "    print(\"Invalid input! Please enter numeric values for angles.\")"
   ]
  },
  {
   "cell_type": "markdown",
   "id": "46613ac4-e50d-45ed-93f1-2757c14cb628",
   "metadata": {},
   "source": [
    "7. Build a program that determines the largest of three given numbers."
   ]
  },
  {
   "cell_type": "code",
   "execution_count": 46,
   "id": "c8cecc00-58d4-414d-9257-f823a9000176",
   "metadata": {},
   "outputs": [
    {
     "name": "stdin",
     "output_type": "stream",
     "text": [
      "Enter first number: 5\n",
      "Enter second number: 6\n",
      "Enter  number: 7\n"
     ]
    },
    {
     "name": "stdout",
     "output_type": "stream",
     "text": [
      "7 is bigger number\n"
     ]
    }
   ],
   "source": [
    "num1 = int(input('Enter first number:'))\n",
    "num2 = int(input('Enter second number:'))\n",
    "num3 = int(input('Enter  number:'))\n",
    "if num1 > num2 and num1 > num3:\n",
    "    print(f'{num1} is bigger number')\n",
    "elif num2 > num1 and num2 > num3:\n",
    "    print(f'{num2} is bigger number')\n",
    "else:\n",
    "    print(f'{num3} is bigger number')"
   ]
  },
  {
   "cell_type": "markdown",
   "id": "0b360eaa-436e-4f4e-a157-c830d331d7bb",
   "metadata": {},
   "source": [
    "8. Develop a program that checks whether a character is a vowel or a consonant."
   ]
  },
  {
   "cell_type": "code",
   "execution_count": 56,
   "id": "c6f8d790-78e9-48f9-a148-65da429f05f1",
   "metadata": {},
   "outputs": [
    {
     "name": "stdout",
     "output_type": "stream",
     "text": [
      "I is a vowel\n"
     ]
    }
   ],
   "source": [
    "def is_vowel(n):\n",
    "    vowel = ['aeiouAEIOU']\n",
    "    for i in vowel:\n",
    "        if n in i:\n",
    "            print(f'{n} is a vowel')\n",
    "        else:\n",
    "            print(f'{n} is a consonant')\n",
    "\n",
    "is_vowel('I')"
   ]
  },
  {
   "cell_type": "markdown",
   "id": "de68f8c0-66b6-482a-b282-6d5e419f289a",
   "metadata": {},
   "source": [
    "9. Create a program to calculate the total cost of a shopping cart based on discounts."
   ]
  },
  {
   "cell_type": "code",
   "execution_count": 64,
   "id": "981f037b-8422-43b4-9a83-b66c18afa9f4",
   "metadata": {},
   "outputs": [
    {
     "data": {
      "text/plain": [
       "450.0"
      ]
     },
     "execution_count": 64,
     "metadata": {},
     "output_type": "execute_result"
    }
   ],
   "source": [
    "def discount_price(n):\n",
    "    if n < 100:\n",
    "        return 0\n",
    "    if n >= 100 and n < 500:\n",
    "        return (n - (n*0.05))\n",
    "    elif n >= 500 and n < 1000:\n",
    "        return (n - (n*0.1))\n",
    "    else:\n",
    "        return (n - (n*0.15))\n",
    "discount_price(500)"
   ]
  },
  {
   "cell_type": "markdown",
   "id": "6025e8a6-2955-4b03-978c-487bf6088889",
   "metadata": {},
   "source": [
    "10. Write a program that checks if a given number is even or odd."
   ]
  },
  {
   "cell_type": "code",
   "execution_count": 72,
   "id": "48dc284c-29f7-4340-9042-eb53ae5a16e7",
   "metadata": {},
   "outputs": [
    {
     "name": "stdout",
     "output_type": "stream",
     "text": [
      "odd\n"
     ]
    }
   ],
   "source": [
    "def check_odd_even(n):\n",
    "    if n <= 0:\n",
    "        print('Invalid')\n",
    "    elif n % 2 == 0:\n",
    "        print('Even')\n",
    "    else:\n",
    "        print('odd')\n",
    "check_odd_even(7)"
   ]
  },
  {
   "cell_type": "markdown",
   "id": "b276601b-153c-44b4-b2ee-d4eac9d44463",
   "metadata": {},
   "source": [
    "Intermediate Level:"
   ]
  },
  {
   "cell_type": "markdown",
   "id": "758881bd-a6dd-40e7-9bf1-5cc9fb484372",
   "metadata": {},
   "source": [
    "11. Write a program that calculates the roots of a quadratic equation ."
   ]
  },
  {
   "cell_type": "code",
   "execution_count": 4,
   "id": "a25a3a95-d834-44b9-ac03-6d6f16dddf80",
   "metadata": {},
   "outputs": [
    {
     "name": "stdout",
     "output_type": "stream",
     "text": [
      "Roots: (2.0, 1.0)\n"
     ]
    }
   ],
   "source": [
    "import math\n",
    "\n",
    "def quadratic_roots(a, b, c):\n",
    "    discriminant = b**2 - 4*a*c\n",
    "    \n",
    "    if discriminant > 0:\n",
    "        root1 = (-b + math.sqrt(discriminant)) / (2*a)\n",
    "        root2 = (-b - math.sqrt(discriminant)) / (2*a)\n",
    "        return root1, root2\n",
    "    elif discriminant == 0:\n",
    "        root = -b / (2*a)\n",
    "        return root, root\n",
    "    else:\n",
    "        real_part = -b / (2*a)\n",
    "        imaginary_part = math.sqrt(abs(discriminant)) / (2*a)\n",
    "        root1 = complex(real_part, imaginary_part)\n",
    "        root2 = complex(real_part, -imaginary_part)\n",
    "        return root1, root2\n",
    "\n",
    "a = 1\n",
    "b = -3\n",
    "c = 2\n",
    "roots = quadratic_roots(a, b, c)\n",
    "print(\"Roots:\", roots)"
   ]
  },
  {
   "cell_type": "markdown",
   "id": "afc96e6c-45da-45db-ae3b-c8030e22e06e",
   "metadata": {},
   "source": [
    "12. Create a program that determines the day of the week based on the day number (1-7)."
   ]
  },
  {
   "cell_type": "code",
   "execution_count": 3,
   "id": "50152c71-8716-47cb-9730-da7e58990f60",
   "metadata": {},
   "outputs": [
    {
     "data": {
      "text/plain": [
       "'Sunday'"
      ]
     },
     "execution_count": 3,
     "metadata": {},
     "output_type": "execute_result"
    }
   ],
   "source": [
    "def days_in_num(n):\n",
    "    days = {1:'Monday',2:'Tuesday',3:'Wednesday',4:'Thurday',5:'Friday',6:'Saturday',7:'Sunday'}\n",
    "    if n in days.keys():\n",
    "        return days[n]\n",
    "    else:\n",
    "        return 'invalid'\n",
    "days_in_num(7)"
   ]
  },
  {
   "cell_type": "markdown",
   "id": "1043df3e-ab85-4dd7-903a-29e06fca300c",
   "metadata": {},
   "source": [
    "13. Develop a program that calculates the factorial of a given number using recursion."
   ]
  },
  {
   "cell_type": "code",
   "execution_count": 77,
   "id": "45833c8b-b48b-4a07-b6cf-de0d3d06bb21",
   "metadata": {},
   "outputs": [
    {
     "data": {
      "text/plain": [
       "120"
      ]
     },
     "execution_count": 77,
     "metadata": {},
     "output_type": "execute_result"
    }
   ],
   "source": [
    "def facto(n):\n",
    "    if n == 1:\n",
    "        return 1\n",
    "    else:\n",
    "        return n * facto(n-1)\n",
    "facto(5)"
   ]
  },
  {
   "cell_type": "markdown",
   "id": "20aab523-1a39-4243-9f4d-2c4bf969ec37",
   "metadata": {},
   "source": [
    "14. Write a program to find the largest among three numbers without using the `max()` function."
   ]
  },
  {
   "cell_type": "code",
   "execution_count": 78,
   "id": "4b3a5b74-723c-4665-9fc9-261583f78a3d",
   "metadata": {},
   "outputs": [
    {
     "name": "stdin",
     "output_type": "stream",
     "text": [
      "Enter 1st num : 5\n",
      "Enter 2nd num : 6\n",
      "Enter 3rd num : 7\n"
     ]
    },
    {
     "name": "stdout",
     "output_type": "stream",
     "text": [
      "7 is bigger\n"
     ]
    }
   ],
   "source": [
    "num1 = int(input('Enter 1st num :'))\n",
    "num2 = int(input('Enter 2nd num :'))\n",
    "num3 = int(input('Enter 3rd num :'))\n",
    "if num1 > num2 and num1 > num3:\n",
    "    print(f'{num1} is bigger')\n",
    "elif num2 > num1 and num2 > num3:\n",
    "    print(f'{num2} is bigger')\n",
    "else:\n",
    "    print(f'{num3} is bigger')"
   ]
  },
  {
   "cell_type": "markdown",
   "id": "bfe6488c-eca1-4da1-b2ed-315fd3f19862",
   "metadata": {},
   "source": [
    "15. Create a program that simulates a basic ATM transaction menu."
   ]
  },
  {
   "cell_type": "code",
   "execution_count": 4,
   "id": "8ed7006c-2971-47c7-849d-b3fdbf31de0e",
   "metadata": {},
   "outputs": [
    {
     "name": "stdout",
     "output_type": "stream",
     "text": [
      "\n",
      "ATM Menu:\n",
      "1. Deposit\n",
      "2. Withdraw\n",
      "3. Check Balance\n",
      "4. Exit\n"
     ]
    },
    {
     "name": "stdin",
     "output_type": "stream",
     "text": [
      "Choose one: 3\n"
     ]
    },
    {
     "name": "stdout",
     "output_type": "stream",
     "text": [
      "Avl.Bal Rs.0\n",
      "\n",
      "ATM Menu:\n",
      "1. Deposit\n",
      "2. Withdraw\n",
      "3. Check Balance\n",
      "4. Exit\n"
     ]
    },
    {
     "name": "stdin",
     "output_type": "stream",
     "text": [
      "Choose one: 1\n",
      "Enter amount: 500\n"
     ]
    },
    {
     "name": "stdout",
     "output_type": "stream",
     "text": [
      "Deposite amount is Rs.500.0, Avl.Bal Rs.500.0\n",
      "\n",
      "ATM Menu:\n",
      "1. Deposit\n",
      "2. Withdraw\n",
      "3. Check Balance\n",
      "4. Exit\n"
     ]
    },
    {
     "name": "stdin",
     "output_type": "stream",
     "text": [
      "Choose one: 2\n",
      "Enter amount: 600\n"
     ]
    },
    {
     "name": "stdout",
     "output_type": "stream",
     "text": [
      "Insufficiant balance\n",
      "\n",
      "ATM Menu:\n",
      "1. Deposit\n",
      "2. Withdraw\n",
      "3. Check Balance\n",
      "4. Exit\n"
     ]
    },
    {
     "name": "stdin",
     "output_type": "stream",
     "text": [
      "Choose one: 4\n"
     ]
    },
    {
     "name": "stdout",
     "output_type": "stream",
     "text": [
      "Thank you\n"
     ]
    }
   ],
   "source": [
    "class ATM:\n",
    "    \n",
    "    def __init__(self,balance = 0):\n",
    "        self.balance = balance\n",
    "    \n",
    "    def deposite(self,amount):\n",
    "        self.balance += amount\n",
    "        print(f'Deposite amount is Rs.{amount}, Avl.Bal Rs.{self.balance}')\n",
    "    \n",
    "    def withdraw(self,withdraw):\n",
    "        if self.balance < withdraw:\n",
    "            print('Insufficiant balance')\n",
    "        else:\n",
    "            self.balance -= withdraw\n",
    "            print(f'Depited amount Rs.{withdraw}, Avl.Bal Rs.{self.balance}')\n",
    "            \n",
    "    def check_balance(self):\n",
    "        print(f'Avl.Bal Rs.{self.balance}')\n",
    "    \n",
    "def main():\n",
    "    atm = ATM()\n",
    "    while True:\n",
    "        print(\"\\nATM Menu:\")\n",
    "        print(\"1. Deposit\")\n",
    "        print(\"2. Withdraw\")\n",
    "        print(\"3. Check Balance\")\n",
    "        print(\"4. Exit\")\n",
    "        choice = input('Choose one:')\n",
    "        \n",
    "        if choice == '1':\n",
    "            amount = float(input('Enter amount:'))\n",
    "            atm.deposite(amount)\n",
    "        elif choice == '2':\n",
    "            amount = float(input('Enter amount:'))\n",
    "            atm.withdraw(amount)\n",
    "        elif choice == '3':\n",
    "            atm.check_balance()\n",
    "        elif choice == '4':\n",
    "            print('Thank you')\n",
    "            break\n",
    "        else:\n",
    "            print('Invalid')\n",
    "\n",
    "if __name__ == '__main__':\n",
    "    main()"
   ]
  },
  {
   "cell_type": "markdown",
   "id": "7e61a66c-62dd-49e5-a3d6-12d4c1711d8f",
   "metadata": {},
   "source": [
    "16. Build a program that checks if a given string is a palindrome or not."
   ]
  },
  {
   "cell_type": "code",
   "execution_count": 81,
   "id": "5e3598db-ccc7-42bd-b442-8d62b6f90d7c",
   "metadata": {},
   "outputs": [
    {
     "name": "stdin",
     "output_type": "stream",
     "text": [
      "Enter a word to check : 1551\n"
     ]
    },
    {
     "name": "stdout",
     "output_type": "stream",
     "text": [
      "1551 is palindrome\n"
     ]
    }
   ],
   "source": [
    "string = str(input('Enter a word to check :'))\n",
    "if string == string[::-1]:\n",
    "    print(f'{string} is palindrome')\n",
    "else:\n",
    "    print('not a palindrome')"
   ]
  },
  {
   "cell_type": "markdown",
   "id": "39d4c1da-e0e4-4de0-812c-224105209df4",
   "metadata": {},
   "source": [
    "17. Write a program that calculates the average of a list of numbers, excluding the smallest and largest values."
   ]
  },
  {
   "cell_type": "code",
   "execution_count": 6,
   "id": "e68b119a-fa3c-41ad-adf6-dbc88076d174",
   "metadata": {},
   "outputs": [
    {
     "data": {
      "text/plain": [
       "6.0"
      ]
     },
     "execution_count": 6,
     "metadata": {},
     "output_type": "execute_result"
    }
   ],
   "source": [
    "def average(n):\n",
    "    result = sorted(n)[1:-1]\n",
    "    return sum(result) / len(result)\n",
    "lis = [5,7,8,9,1,6,4]\n",
    "average(lis)"
   ]
  },
  {
   "cell_type": "markdown",
   "id": "3429fd19-4c2b-4d7d-b5e8-cde7a50d87e9",
   "metadata": {},
   "source": [
    "18. Develop a program that converts a given temperature from Celsius to Fahrenheit."
   ]
  },
  {
   "cell_type": "code",
   "execution_count": 8,
   "id": "e6723b4b-8810-471a-afa1-63d7dac82fef",
   "metadata": {},
   "outputs": [
    {
     "name": "stdin",
     "output_type": "stream",
     "text": [
      "enter celcius 1\n"
     ]
    },
    {
     "name": "stdout",
     "output_type": "stream",
     "text": [
      "33.8\n"
     ]
    }
   ],
   "source": [
    "def temprature(n):\n",
    "    temp = (n * 9/5) + 32\n",
    "    return temp\n",
    "temp = float(input('enter celcius'))\n",
    "result = temprature(temp)\n",
    "print(result)"
   ]
  },
  {
   "cell_type": "markdown",
   "id": "c93bb874-4322-49cd-a6a7-9209fcfd7d9b",
   "metadata": {},
   "source": [
    "19. Create a program that simulates a basic calculator for addition, subtraction, multiplication, and division."
   ]
  },
  {
   "cell_type": "code",
   "execution_count": 9,
   "id": "051b8b22-f65d-4901-8a1f-fd149df4a259",
   "metadata": {},
   "outputs": [
    {
     "name": "stdout",
     "output_type": "stream",
     "text": [
      "Select operation:\n",
      "1. Addition\n",
      "2. Subtraction\n",
      "3. Multiplication\n",
      "4. Division\n",
      "5. Exit\n"
     ]
    },
    {
     "name": "stdin",
     "output_type": "stream",
     "text": [
      "Select anything: 5\n"
     ]
    },
    {
     "name": "stdout",
     "output_type": "stream",
     "text": [
      "Exiting\n"
     ]
    }
   ],
   "source": [
    "def add(a,b):\n",
    "    return a+b\n",
    "def sub(a,b):\n",
    "    return a-b\n",
    "def multi(a,b):\n",
    "    return a*b\n",
    "def division(a,b):\n",
    "    return a/b\n",
    "\n",
    "while True:\n",
    "    print(\"Select operation:\")\n",
    "    print(\"1. Addition\")\n",
    "    print(\"2. Subtraction\")\n",
    "    print(\"3. Multiplication\")\n",
    "    print(\"4. Division\")\n",
    "    print(\"5. Exit\")\n",
    "    choice = input('Select anything:')\n",
    "    if choice in ('1','2','3','4','5'):\n",
    "        if choice == '5':\n",
    "            print('Exiting')\n",
    "            break\n",
    "        num1 = int(input('Enter 1st number :'))\n",
    "        num2 = int(input('Enter 2nd number :'))\n",
    "        if choice == '1':\n",
    "            print(f'The answer is :{add(num1,num2)}')\n",
    "        elif choice == '2':\n",
    "            print(sub(num1,num2))\n",
    "        elif choice == '3':\n",
    "            print(multi(num1,num2))\n",
    "        elif choice == '4':\n",
    "            print(division(num1,num2))\n",
    "    else:\n",
    "        print('invalid')"
   ]
  },
  {
   "cell_type": "markdown",
   "id": "7b019a2b-b40a-4d7a-85a4-1bc873dd0d75",
   "metadata": {},
   "source": [
    "20. Write a program that determines the roots of a cubic equation using the Cardano formula."
   ]
  },
  {
   "cell_type": "code",
   "execution_count": 6,
   "id": "54a8c9a9-bb73-470a-a6bb-e4661f57677d",
   "metadata": {},
   "outputs": [
    {
     "name": "stdout",
     "output_type": "stream",
     "text": [
      "Roots: ((2.866025403784439+0.4999999999999999j), (1.1339745962155612-0.4999999999999999j), (1.9999999999999998-1.0605752387249065e-16j))\n"
     ]
    }
   ],
   "source": [
    "import cmath\n",
    "\n",
    "def cubic_roots(a, b, c, d):\n",
    "    p = (3*a*c - b**2) / (3*a**2)\n",
    "    q = (2*b**3 - 9*a*b*c + 27*a**2*d) / (27*a**3)\n",
    "    delta = (q**2 / 4) + (p**3 / 27)\n",
    "    \n",
    "    if delta > 0:\n",
    "        u = (-q/2 + delta**(1/2))**(1/3) \n",
    "        v = (-q/2 - delta**(1/2))**(1/3)\n",
    "        root1 = u + v - b / (3*a)\n",
    "        root2 = -(u + v) / 2 - b / (3*a) + (u - v) * 1j * (3**0.5) / 2\n",
    "        root3 = -(u + v) / 2 - b / (3*a) - (u - v) * 1j * (3**0.5) / 2\n",
    "    elif delta == 0:\n",
    "        if q >= 0:\n",
    "            root1 = -2 * (q / 2)**(1/3) - b / (3*a)\n",
    "            root2 = (q / 2)**(1/3) - b / (3*a)\n",
    "            root3 = root2\n",
    "        else:\n",
    "            root1 = 2 * (-q / 2)**(1/3) - b / (3*a)\n",
    "            root2 = -(-q / 2)**(1/3) - b / (3*a)\n",
    "            root3 = root2\n",
    "    else:\n",
    "        phi = cmath.acos(-q / 2 * (delta)**(-1/2))\n",
    "        root1 = 2 * (delta)**(1/6) * cmath.cos(phi / 3) - b / (3*a)\n",
    "        root2 = 2 * (delta)**(1/6) * cmath.cos((phi + 2 * cmath.pi) / 3) - b / (3*a)\n",
    "        root3 = 2 * (delta)**(1/6) * cmath.cos((phi + 4 * cmath.pi) / 3) - b / (3*a)\n",
    "\n",
    "    return root1, root2, root3\n",
    "\n",
    "a = 1\n",
    "b = -6\n",
    "c = 11\n",
    "d = -6\n",
    "roots = cubic_roots(a, b, c, d)\n",
    "print(\"Roots:\", roots)"
   ]
  },
  {
   "cell_type": "markdown",
   "id": "4110653a-55c0-4a8c-ad14-944945ee56d2",
   "metadata": {},
   "source": [
    "Advanced Level:"
   ]
  },
  {
   "cell_type": "markdown",
   "id": "f9041b4d-9350-4438-85dd-28b5b160b051",
   "metadata": {},
   "source": [
    "21. Create a program that calculates the income tax based on the user's income and tax brackets."
   ]
  },
  {
   "cell_type": "code",
   "execution_count": 8,
   "id": "427a00b1-892d-496d-a962-cd16d26cd9dc",
   "metadata": {},
   "outputs": [
    {
     "name": "stdin",
     "output_type": "stream",
     "text": [
      "Enter your annual income:  450000\n"
     ]
    },
    {
     "name": "stdout",
     "output_type": "stream",
     "text": [
      "Your income tax is: ₹20,000.00\n"
     ]
    }
   ],
   "source": [
    "def calculate_tax(income):\n",
    "    tax_brackets = [\n",
    "        (250000, 0),\n",
    "        (500000, 0.1),\n",
    "        (1000000, 0.15),\n",
    "        (1500000, 0.2),\n",
    "        (2000000, 0.25),\n",
    "        (5000000, 0.3)\n",
    "    ]\n",
    "    \n",
    "    tax = 0\n",
    "    remaining_income = income\n",
    "\n",
    "    for bracket, rate in tax_brackets:\n",
    "        if remaining_income <= 0:\n",
    "            break\n",
    "        elif remaining_income <= bracket:\n",
    "            tax += remaining_income * rate\n",
    "            break\n",
    "        else:\n",
    "            tax += bracket * rate\n",
    "            remaining_income -= bracket\n",
    "\n",
    "    return tax\n",
    "\n",
    "def main():\n",
    "    try:\n",
    "        income = float(input(\"Enter your annual income: \"))\n",
    "        if income < 0:\n",
    "            print(\"Income cannot be negative.\")\n",
    "        else:\n",
    "            tax = calculate_tax(income)\n",
    "            print(f\"Your income tax is: ₹{tax:,.2f}\")\n",
    "    except ValueError:\n",
    "        print(\"Please enter a valid number for income.\")\n",
    "\n",
    "if __name__ == \"__main__\":\n",
    "    main()\n"
   ]
  },
  {
   "cell_type": "markdown",
   "id": "8d0b2002-702b-4e20-81d7-724064699dcc",
   "metadata": {},
   "source": [
    "22. Write a program that simulates a rock-paper-scissors game against the computer."
   ]
  },
  {
   "cell_type": "code",
   "execution_count": 5,
   "id": "a5c80a3c-7851-4012-857f-5105d242ded0",
   "metadata": {},
   "outputs": [
    {
     "name": "stdout",
     "output_type": "stream",
     "text": [
      "Welcome to rock paper scissors\n"
     ]
    },
    {
     "name": "stdin",
     "output_type": "stream",
     "text": [
      "select rock-paper-scissor : rock\n"
     ]
    },
    {
     "name": "stdout",
     "output_type": "stream",
     "text": [
      "Your choice is None\n",
      "computer choice is scissor\n",
      "Computer wins the game\n"
     ]
    },
    {
     "name": "stdin",
     "output_type": "stream",
     "text": [
      "Restart the game y/n : n\n"
     ]
    }
   ],
   "source": [
    "import random \n",
    "def user():\n",
    "    choice = input(\"select rock-paper-scissor :\").lower()\n",
    "    while choice not in ['rock','paper','scissor']:\n",
    "        print('please enter a valid one')\n",
    "        choice = input(\"select rock-paper-scissor :\").lower()\n",
    "        return choice\n",
    "def computer():\n",
    "    return random.choice(['rock','paper','scissor'])\n",
    "def final(user_choice,computer_choice):\n",
    "    if user_choice == computer_choice:\n",
    "        return 'Its a Tie'\n",
    "    elif (user_choice == 'rock' and computer_choice == 'scissors') or \\\n",
    "         (user_choice == 'scissors' and computer_choice == 'paper') or \\\n",
    "         (user_choice == 'paper' and computer_choice == 'rock'):\n",
    "        return 'You win'\n",
    "    else:\n",
    "        return 'Computer wins the game'\n",
    "def game():\n",
    "    print('Welcome to rock paper scissors')\n",
    "    play_agin = 'y'\n",
    "    while play_agin == 'y':\n",
    "        user_choice = user()\n",
    "        computer_choice = computer()\n",
    "        print(f'Your choice is {user_choice}')\n",
    "        print(f'computer choice is {computer_choice}')\n",
    "        print(final(user_choice,computer_choice))\n",
    "        play_agin = (input('Restart the game y/n :'))\n",
    "    \n",
    "if __name__ == '__main__':\n",
    "    game()"
   ]
  },
  {
   "cell_type": "markdown",
   "id": "ffaff639-bb66-41b5-b352-0fb8d4665471",
   "metadata": {},
   "source": [
    "23. Develop a program that generates a random password based on user preferences (length, complexity)."
   ]
  },
  {
   "cell_type": "code",
   "execution_count": 15,
   "id": "01064362-1e93-4a49-9b27-9f0793d5ab8a",
   "metadata": {},
   "outputs": [
    {
     "name": "stdin",
     "output_type": "stream",
     "text": [
      "Enter length of the password:  8\n"
     ]
    },
    {
     "name": "stdout",
     "output_type": "stream",
     "text": [
      "Select from below :\n",
      "            1. Add Digit\n",
      "            2. Add Letters\n",
      "            3. Add Special characters\n",
      "            4. Exit\n"
     ]
    },
    {
     "name": "stdin",
     "output_type": "stream",
     "text": [
      "Select number:  1\n",
      "Select number:  2\n",
      "Select number:  3\n",
      "Select number:  4\n"
     ]
    },
    {
     "name": "stdout",
     "output_type": "stream",
     "text": [
      "The password is: `h-aKWlw\n"
     ]
    }
   ],
   "source": [
    "import random\n",
    "import string\n",
    "\n",
    "def random_password():\n",
    "    length = int(input('Enter length of the password: '))\n",
    "    result = []\n",
    "    print('''Select from below :\n",
    "            1. Add Digit\n",
    "            2. Add Letters\n",
    "            3. Add Special characters\n",
    "            4. Exit''')\n",
    "    while True:\n",
    "        choice = int(input('Select number: '))\n",
    "        if choice == 1:\n",
    "            result += string.digits\n",
    "        elif choice == 2:\n",
    "            result += string.ascii_letters\n",
    "        elif choice == 3:\n",
    "            result += string.punctuation\n",
    "        elif choice == 4:\n",
    "            break\n",
    "        else:\n",
    "            print('Enter a valid number')\n",
    "    \n",
    "    password = ''.join(random.choice(result) for i in range(length))\n",
    "    print('The password is: ' + password)\n",
    "\n",
    "random_password()"
   ]
  },
  {
   "cell_type": "markdown",
   "id": "29da19f7-3418-4d85-aeb5-a16039f59132",
   "metadata": {},
   "source": [
    "24. Create a program that implements a simple text-based adventure game with branching scenarios."
   ]
  },
  {
   "cell_type": "code",
   "execution_count": 16,
   "id": "0ce68cbf-69f2-4a1e-b9b0-935fff2a18b4",
   "metadata": {},
   "outputs": [
    {
     "name": "stdout",
     "output_type": "stream",
     "text": [
      "Welcome to the Adventure Game!\n",
      "You wake up in a mysterious forest. You see a path to the left and a path to the right.\n",
      "Which path will you take? (left/right)\n"
     ]
    },
    {
     "name": "stdin",
     "output_type": "stream",
     "text": [
      " right\n"
     ]
    },
    {
     "name": "stdout",
     "output_type": "stream",
     "text": [
      "\n",
      "You chose the right path.\n",
      "You see a cave entrance. Do you want to enter the cave? (yes/no)\n"
     ]
    },
    {
     "name": "stdin",
     "output_type": "stream",
     "text": [
      " yes\n"
     ]
    },
    {
     "name": "stdout",
     "output_type": "stream",
     "text": [
      "\n",
      "You enter the dark cave.\n",
      "Inside the cave, you see two tunnels: one to the left and one to the right.\n",
      "Which tunnel will you take? (left/right)\n"
     ]
    },
    {
     "name": "stdin",
     "output_type": "stream",
     "text": [
      " left\n"
     ]
    },
    {
     "name": "stdout",
     "output_type": "stream",
     "text": [
      "\n",
      "You chose the left tunnel.\n",
      "You encounter a sleeping dragon!\n",
      "The dragon wakes up and breathes fire. You are toast. Game over!\n"
     ]
    }
   ],
   "source": [
    "def start_game():\n",
    "    print(\"Welcome to the Adventure Game!\")\n",
    "    print(\"You wake up in a mysterious forest. You see a path to the left and a path to the right.\")\n",
    "    print(\"Which path will you take? (left/right)\")\n",
    "\n",
    "    choice = input().lower()\n",
    "\n",
    "    if choice == \"left\":\n",
    "        left_path()\n",
    "    elif choice == \"right\":\n",
    "        right_path()\n",
    "    else:\n",
    "        print(\"Invalid input. Please try again.\")\n",
    "        start_game()\n",
    "\n",
    "def left_path():\n",
    "    print(\"\\nYou chose the left path.\")\n",
    "    print(\"You come across a river. You can swim across or look for a bridge.\")\n",
    "    print(\"What will you do? (swim/bridge)\")\n",
    "\n",
    "    choice = input().lower()\n",
    "\n",
    "    if choice == \"swim\":\n",
    "        print(\"\\nYou attempt to swim across the river.\")\n",
    "        print(\"Oh no! The current is too strong and you get swept away.\")\n",
    "        game_over()\n",
    "    elif choice == \"bridge\":\n",
    "        print(\"\\nYou find a sturdy bridge and cross the river safely.\")\n",
    "        print(\"You continue on the path and find a treasure chest!\")\n",
    "        print(\"Congratulations! You win!\")\n",
    "    else:\n",
    "        print(\"Invalid input. Please try again.\")\n",
    "        left_path()\n",
    "\n",
    "def right_path():\n",
    "    print(\"\\nYou chose the right path.\")\n",
    "    print(\"You see a cave entrance. Do you want to enter the cave? (yes/no)\")\n",
    "\n",
    "    choice = input().lower()\n",
    "\n",
    "    if choice == \"yes\":\n",
    "        cave()\n",
    "    elif choice == \"no\":\n",
    "        print(\"\\nYou decide not to enter the cave.\")\n",
    "        print(\"You continue on the path and find a hidden garden.\")\n",
    "        print(\"You relax in the garden and enjoy the peaceful surroundings.\")\n",
    "        print(\"Congratulations! You win!\")\n",
    "    else:\n",
    "        print(\"Invalid input. Please try again.\")\n",
    "        right_path()\n",
    "\n",
    "def cave():\n",
    "    print(\"\\nYou enter the dark cave.\")\n",
    "    print(\"Inside the cave, you see two tunnels: one to the left and one to the right.\")\n",
    "    print(\"Which tunnel will you take? (left/right)\")\n",
    "\n",
    "    choice = input().lower()\n",
    "\n",
    "    if choice == \"left\":\n",
    "        print(\"\\nYou chose the left tunnel.\")\n",
    "        print(\"You encounter a sleeping dragon!\")\n",
    "        print(\"The dragon wakes up and breathes fire. You are toast. Game over!\")\n",
    "    elif choice == \"right\":\n",
    "        print(\"\\nYou chose the right tunnel.\")\n",
    "        print(\"You find a hidden treasure inside the cave!\")\n",
    "        print(\"Congratulations! You win!\")\n",
    "    else:\n",
    "        print(\"Invalid input. Please try again.\")\n",
    "        cave()\n",
    "\n",
    "def game_over():\n",
    "    print(\"\\nGame over. Do you want to play again? (yes/no)\")\n",
    "\n",
    "    choice = input().lower()\n",
    "\n",
    "    if choice == \"yes\":\n",
    "        start_game()\n",
    "    elif choice == \"no\":\n",
    "        print(\"Thanks for playing!\")\n",
    "    else:\n",
    "        print(\"Invalid input. Please try again.\")\n",
    "        game_over()\n",
    "\n",
    "start_game()"
   ]
  },
  {
   "cell_type": "markdown",
   "id": "e897efe0-649c-43d3-9e62-0edfc334e07b",
   "metadata": {},
   "source": [
    "25. Build a program that solves a linear equation for x, considering different cases."
   ]
  },
  {
   "cell_type": "code",
   "execution_count": 17,
   "id": "0f0cb596-bb79-4af6-8446-93f23251d62f",
   "metadata": {},
   "outputs": [
    {
     "name": "stdout",
     "output_type": "stream",
     "text": [
      "Linear Equation Solver: ax + b = 0\n",
      "Enter the coefficients 'a' and 'b' for the equation ax + b = 0:\n"
     ]
    },
    {
     "name": "stdin",
     "output_type": "stream",
     "text": [
      "Enter 'a':  5\n",
      "Enter 'b':  5\n"
     ]
    },
    {
     "name": "stdout",
     "output_type": "stream",
     "text": [
      "\n",
      "Solution:\n",
      "x = -1.0\n"
     ]
    }
   ],
   "source": [
    "def solve_linear_equation(a, b):\n",
    "    if a == 0 and b == 0:\n",
    "        return \"Infinite solutions (Any real number is a solution)\"\n",
    "    \n",
    "    elif a == 0 and b != 0:\n",
    "        return \"No solution (Contradiction)\"\n",
    "    \n",
    "    else:\n",
    "        x = -b / a\n",
    "        return x\n",
    "\n",
    "def main():\n",
    "    print(\"Linear Equation Solver: ax + b = 0\")\n",
    "    print(\"Enter the coefficients 'a' and 'b' for the equation ax + b = 0:\")\n",
    "\n",
    "    a = float(input(\"Enter 'a': \"))\n",
    "    b = float(input(\"Enter 'b': \"))\n",
    "\n",
    "    solution = solve_linear_equation(a, b)\n",
    "\n",
    "    print(\"\\nSolution:\")\n",
    "    print(\"x =\", solution)\n",
    "\n",
    "if __name__ == \"__main__\":\n",
    "    main()"
   ]
  },
  {
   "cell_type": "markdown",
   "id": "d5b0a949-5b66-4e32-abca-3246548eef29",
   "metadata": {},
   "source": [
    "26. Write a program that simulates a basic quiz game with multiple-choice questions and scoring."
   ]
  },
  {
   "cell_type": "code",
   "execution_count": 1,
   "id": "f8f28a36-5773-4708-8ff0-231d8a5302a9",
   "metadata": {},
   "outputs": [
    {
     "name": "stdout",
     "output_type": "stream",
     "text": [
      "Welcome to the Quiz Game!\n",
      "Answer the following multiple-choice questions:\n",
      "\n",
      "Question 1: What is the capital of France?\n",
      "Options:\n",
      "1. Paris\n",
      "2. Rome\n",
      "3. Berlin\n",
      "4. London\n"
     ]
    },
    {
     "name": "stdin",
     "output_type": "stream",
     "text": [
      "Enter your choice (1, 2, 3, 4):  1\n"
     ]
    },
    {
     "name": "stdout",
     "output_type": "stream",
     "text": [
      "Correct!\n",
      "\n",
      "Question 2: Which planet is known as the Red Planet?\n",
      "Options:\n",
      "1. Venus\n",
      "2. Mars\n",
      "3. Jupiter\n",
      "4. Saturn\n"
     ]
    },
    {
     "name": "stdin",
     "output_type": "stream",
     "text": [
      "Enter your choice (1, 2, 3, 4):  3\n"
     ]
    },
    {
     "name": "stdout",
     "output_type": "stream",
     "text": [
      "Incorrect.\n",
      "The correct answer is: Mars\n",
      "\n",
      "Question 3: Who painted the Mona Lisa?\n",
      "Options:\n",
      "1. Leonardo da Vinci\n",
      "2. Pablo Picasso\n",
      "3. Vincent van Gogh\n",
      "4. Michelangelo\n"
     ]
    },
    {
     "name": "stdin",
     "output_type": "stream",
     "text": [
      "Enter your choice (1, 2, 3, 4):  1\n"
     ]
    },
    {
     "name": "stdout",
     "output_type": "stream",
     "text": [
      "Correct!\n",
      "\n",
      "Question 4: What is the largest mammal in the world?\n",
      "Options:\n",
      "1. Elephant\n",
      "2. Giraffe\n",
      "3. Blue whale\n",
      "4. Hippopotamus\n"
     ]
    },
    {
     "name": "stdin",
     "output_type": "stream",
     "text": [
      "Enter your choice (1, 2, 3, 4):  3\n"
     ]
    },
    {
     "name": "stdout",
     "output_type": "stream",
     "text": [
      "Correct!\n",
      "\n",
      "Quiz completed!\n",
      "Your score: 3 / 4\n"
     ]
    }
   ],
   "source": [
    "def run_quiz(questions):\n",
    "    score = 0\n",
    "    total_questions = len(questions)\n",
    "\n",
    "    print(\"Welcome to the Quiz Game!\")\n",
    "    print(\"Answer the following multiple-choice questions:\")\n",
    "\n",
    "    for i, (question, options, answer) in enumerate(questions, 1):\n",
    "        print(f\"\\nQuestion {i}: {question}\")\n",
    "        print(\"Options:\")\n",
    "        for idx, option in enumerate(options, 1):\n",
    "            print(f\"{idx}. {option}\")\n",
    "\n",
    "        user_answer = input(\"Enter your choice (1, 2, 3, 4): \")\n",
    "\n",
    "        if user_answer.isdigit():\n",
    "            user_answer = int(user_answer)\n",
    "            if 1 <= user_answer <= 4:\n",
    "                if options[user_answer - 1] == answer:\n",
    "                    print(\"Correct!\")\n",
    "                    score += 1\n",
    "                else:\n",
    "                    print(\"Incorrect.\")\n",
    "                    print(f\"The correct answer is: {answer}\")\n",
    "            else:\n",
    "                print(\"Invalid choice. Skipping this question.\")\n",
    "        else:\n",
    "            print(\"Invalid input. Skipping this question.\")\n",
    "\n",
    "    print(\"\\nQuiz completed!\")\n",
    "    print(f\"Your score: {score} / {total_questions}\")\n",
    "\n",
    "def main():\n",
    "    questions = [\n",
    "        (\"What is the capital of France?\",\n",
    "         [\"Paris\", \"Rome\", \"Berlin\", \"London\"],\n",
    "         \"Paris\"),\n",
    "        (\"Which planet is known as the Red Planet?\",\n",
    "         [\"Venus\", \"Mars\", \"Jupiter\", \"Saturn\"],\n",
    "         \"Mars\"),\n",
    "        (\"Who painted the Mona Lisa?\",\n",
    "         [\"Leonardo da Vinci\", \"Pablo Picasso\", \"Vincent van Gogh\", \"Michelangelo\"],\n",
    "         \"Leonardo da Vinci\"),\n",
    "        (\"What is the largest mammal in the world?\",\n",
    "         [\"Elephant\", \"Giraffe\", \"Blue whale\", \"Hippopotamus\"],\n",
    "         \"Blue whale\")\n",
    "    ]\n",
    "\n",
    "    run_quiz(questions)\n",
    "\n",
    "if __name__ == \"__main__\":\n",
    "    main()"
   ]
  },
  {
   "cell_type": "markdown",
   "id": "4e5ffa8c-7e3f-4ae3-8af7-76a439e53900",
   "metadata": {},
   "source": [
    "27. Develop a program that determines whether a given year is a prime number or not."
   ]
  },
  {
   "cell_type": "code",
   "execution_count": 3,
   "id": "563b722c-abd3-4966-b218-860ec1fc5817",
   "metadata": {},
   "outputs": [
    {
     "name": "stdin",
     "output_type": "stream",
     "text": [
      "Enter a year to check if it is prime: 2500\n"
     ]
    },
    {
     "name": "stdout",
     "output_type": "stream",
     "text": [
      "2500 is not a prime year\n"
     ]
    }
   ],
   "source": [
    "def is_prime(year):\n",
    "    if year <= 1:\n",
    "        return False\n",
    "    for i in range(2, int(year**0.5) + 1):\n",
    "        if year % i == 0:\n",
    "            return False\n",
    "    return True\n",
    "\n",
    "def final():\n",
    "    year = int(input('Enter a year to check if it is prime:'))\n",
    "    if is_prime(year):\n",
    "        print(f'{year} is a prime year')\n",
    "    else:\n",
    "        print(f'{year} is not a prime year')\n",
    "final()"
   ]
  },
  {
   "cell_type": "markdown",
   "id": "c19bec0e-5b64-4e53-bfdb-1e5e2848d9ab",
   "metadata": {},
   "source": [
    "28. Create a program that sorts three numbers in ascending order using conditional statements."
   ]
  },
  {
   "cell_type": "code",
   "execution_count": 10,
   "id": "435e4561-3094-4060-88ff-ce4e27bd170a",
   "metadata": {},
   "outputs": [
    {
     "name": "stdin",
     "output_type": "stream",
     "text": [
      "Enter 1st digit 1\n",
      "Enter 2nd digit 2\n",
      "Enter 3rd digit 3\n"
     ]
    },
    {
     "data": {
      "text/plain": [
       "(1, 2, 3)"
      ]
     },
     "execution_count": 10,
     "metadata": {},
     "output_type": "execute_result"
    }
   ],
   "source": [
    "def sort_three():\n",
    "    a = int(input('Enter 1st digit'))\n",
    "    b = int(input('Enter 2nd digit'))\n",
    "    c = int(input('Enter 3rd digit'))\n",
    "    if a <= b <= c:\n",
    "        return a,b,c\n",
    "    elif b <= a <= c:\n",
    "        return b,a,c\n",
    "    elif b <= c <= a:\n",
    "        return b,c,a\n",
    "    elif c <= a <= b:\n",
    "        return c,a,b\n",
    "    elif a <= c <= b:\n",
    "        return a,c,b\n",
    "    else:\n",
    "        return c,b,a\n",
    "sort_three()"
   ]
  },
  {
   "cell_type": "markdown",
   "id": "780b29f6-8e7c-4678-9d6c-5ccce455e03a",
   "metadata": {},
   "source": [
    "29. Build a program that determines the roots of a quartic equation using numerical methods."
   ]
  },
  {
   "cell_type": "code",
   "execution_count": 4,
   "id": "a8c16894-2ad3-4f7d-9706-4e3c50be94c4",
   "metadata": {},
   "outputs": [
    {
     "name": "stdout",
     "output_type": "stream",
     "text": [
      "Roots of the equation: [-0.75+1.39194109j -0.75-1.39194109j]\n"
     ]
    }
   ],
   "source": [
    "import numpy as np\n",
    "\n",
    "def quartic_roots(coefficients):\n",
    "    roots = np.roots(coefficients)\n",
    "    return roots\n",
    "\n",
    "coefficients = [2, 3, 5]\n",
    "roots = quartic_roots(coefficients)\n",
    "print(\"Roots of the equation:\", roots)"
   ]
  },
  {
   "cell_type": "markdown",
   "id": "20cf8c42-78c4-4bbc-9267-2e294056b16b",
   "metadata": {},
   "source": [
    "30. Write a program that calculates the BMI (Body Mass Index) and provides health recommendations based\n",
    "on the user's input."
   ]
  },
  {
   "cell_type": "code",
   "execution_count": 7,
   "id": "1c0896a3-1327-4bed-b79b-b7409c8e4bc7",
   "metadata": {},
   "outputs": [
    {
     "name": "stdin",
     "output_type": "stream",
     "text": [
      "Enter your height in meters: 1.7\n",
      "Enter your weight in kilogram: 82\n"
     ]
    },
    {
     "name": "stdout",
     "output_type": "stream",
     "text": [
      "Your BMI is: 28.37\n",
      "Recommandation: You are overweight, Do excercise and eat healthy\n"
     ]
    }
   ],
   "source": [
    "def bmi_calc(height,weight):\n",
    "    return weight / (height * height)\n",
    "    \n",
    "def recommendation(bmi):\n",
    "    if bmi < 18.5:\n",
    "        return 'You are underweight, Eat healthy and nutritions'\n",
    "    elif 18.5 <= bmi < 25:\n",
    "        return 'You are healthy, Keep it up'\n",
    "    elif 25 <= bmi < 30:\n",
    "        return 'You are overweight, Do excercise and eat healthy'\n",
    "    else:\n",
    "        return 'You are Obese, Its Danger to your health, visit a doctor ASAP'\n",
    "    \n",
    "def main():\n",
    "    height = float(input('Enter your height in meters:'))\n",
    "    weight = float(input('Enter your weight in kilogram:'))\n",
    "    bmi = bmi_calc(height,weight)\n",
    "    print('Your BMI is:', round(bmi, 2))\n",
    "    result = recommendation(bmi)\n",
    "    print('Recommandation:',result)\n",
    "if __name__ == \"__main__\":\n",
    "    main()"
   ]
  },
  {
   "cell_type": "markdown",
   "id": "3db550bf-f295-4c32-b279-1f7f9ea7cfa5",
   "metadata": {},
   "source": [
    "Challenge Level:"
   ]
  },
  {
   "cell_type": "markdown",
   "id": "7fd4f5e8-251c-4d0a-92f6-94a743382ee8",
   "metadata": {},
   "source": [
    "31. Create a program that validates a password based on complexity rules (length, characters, etc.)."
   ]
  },
  {
   "cell_type": "code",
   "execution_count": 4,
   "id": "c8193736-e9db-4c7c-91ea-79c3293d54eb",
   "metadata": {},
   "outputs": [
    {
     "name": "stdin",
     "output_type": "stream",
     "text": [
      "Enter password: udayA1!\n"
     ]
    },
    {
     "name": "stdout",
     "output_type": "stream",
     "text": [
      "Password is valid\n"
     ]
    }
   ],
   "source": [
    "import re\n",
    "\n",
    "def validate_password(password):\n",
    "    if len(password) < 6:\n",
    "        return False, 'Password must contain more than six characters'\n",
    "    if not re.search(r\"[A-Z]\", password):\n",
    "        return False, 'Password must contain one uppercase'\n",
    "    if not re.search(r\"[a-z]\", password):\n",
    "        return False, 'Password must contain one lower case'\n",
    "    if not re.search(r\"\\d\", password):\n",
    "        return False, 'Password must contain one digit'\n",
    "    if not re.search(r\"[!@#$%^&*()-_=+{};:,<.>/?[\\]~]\", password):\n",
    "        return False, 'Password must contain one special charater'\n",
    "    if ' ' in password:\n",
    "        return False, 'Password should not contain spaces'\n",
    "    return True,'Password is valid'\n",
    "\n",
    "def main():\n",
    "    passwd = input('Enter password:')\n",
    "    valid,message = validate_password(passwd)\n",
    "    if valid:\n",
    "        print('Password is valid')\n",
    "    else:\n",
    "        print(message)\n",
    "        \n",
    "if __name__ == \"__main__\":\n",
    "    main()"
   ]
  },
  {
   "cell_type": "markdown",
   "id": "9a333f7e-24e7-4d89-b561-23ed012b68e5",
   "metadata": {},
   "source": [
    "32. Develop a program that performs matrix addition and subtraction based on user input."
   ]
  },
  {
   "cell_type": "code",
   "execution_count": 11,
   "id": "85def2e8-ac2f-42c5-9afa-1dd9db18d36f",
   "metadata": {},
   "outputs": [
    {
     "name": "stdin",
     "output_type": "stream",
     "text": [
      "number of rows: 2\n",
      "number of columns 3\n"
     ]
    },
    {
     "name": "stdout",
     "output_type": "stream",
     "text": [
      "Enter first matrix\n"
     ]
    },
    {
     "name": "stdin",
     "output_type": "stream",
     "text": [
      "enter elements[1][1] 2\n",
      "enter elements[1][2] 2\n",
      "enter elements[1][3] 2\n",
      "enter elements[2][1] 2\n",
      "enter elements[2][2] 2\n",
      "enter elements[2][3] 2\n"
     ]
    },
    {
     "name": "stdout",
     "output_type": "stream",
     "text": [
      "Enter second matrix\n"
     ]
    },
    {
     "name": "stdin",
     "output_type": "stream",
     "text": [
      "enter elements[1][1] 2\n",
      "enter elements[1][2] 2\n",
      "enter elements[1][3] 2\n",
      "enter elements[2][1] 2\n",
      "enter elements[2][2] 2\n",
      "enter elements[2][3] 2\n",
      "\n",
      "1.Addition \n",
      "2.Subtraction :\n",
      " 1\n"
     ]
    },
    {
     "name": "stdout",
     "output_type": "stream",
     "text": [
      "[4, 4, 4]\n",
      "[4, 4, 4]\n"
     ]
    }
   ],
   "source": [
    "def addition_matrix(m1,m2):\n",
    "    result = []\n",
    "    for i in range(len(m1)):\n",
    "        row = []\n",
    "        for j in range(len(m1[0])):\n",
    "            row.append(m1[i][j] + m2[i][j])\n",
    "        result.append(row)\n",
    "    return result\n",
    "\n",
    "def subtraction_matrix(m1,m2):\n",
    "    result = []\n",
    "    for i in range(len(m1)):\n",
    "        row = []\n",
    "        for j in range(len(m1[0])):\n",
    "            row.append(m1[i][j] - m2[i][j])\n",
    "        result.append(row)\n",
    "    return result\n",
    "\n",
    "def input_matrix(rows,columns):\n",
    "    result = []\n",
    "    for i in range(rows):\n",
    "        row = []\n",
    "        for j in range(columns):\n",
    "            x = int(input(f'enter elements[{i+1}][{j+1}]'))\n",
    "            row.append(x)\n",
    "        result.append(row)\n",
    "    return result\n",
    "\n",
    "def print_matrix(matrix):\n",
    "    for row in matrix:\n",
    "        print(row)\n",
    "        \n",
    "def main():\n",
    "    rows = int(input('number of rows:'))\n",
    "    columns = int(input('number of columns'))\n",
    "    print('Enter first matrix')\n",
    "    matrix1 = input_matrix(rows,columns)\n",
    "    print('Enter second matrix')\n",
    "    matrix2 = input_matrix(rows,columns)\n",
    "    user = int(input(\"\\n1.Addition \\n2.Subtraction :\\n\"))\n",
    "    if user == 1:\n",
    "        result = addition_matrix(matrix1,matrix2)\n",
    "        print_matrix(result)\n",
    "    elif user == 2 :\n",
    "        result = subtraction_matrix(matrix1,matrix2)\n",
    "        print_matrix(result)\n",
    "    else:\n",
    "        print('Invalid selection select 1 or 2')\n",
    "\n",
    "if __name__ == \"__main__\":\n",
    "    main()"
   ]
  },
  {
   "cell_type": "markdown",
   "id": "014eea96-ede1-46ba-bd44-c213e8228534",
   "metadata": {},
   "source": [
    "33. Write a program that calculates the greatest common divisor (GCD) of two numbers using the Euclidean\n",
    "algorithm."
   ]
  },
  {
   "cell_type": "code",
   "execution_count": 1,
   "id": "85734b58-16a2-44ba-b39f-5b12bab3360c",
   "metadata": {},
   "outputs": [
    {
     "name": "stdin",
     "output_type": "stream",
     "text": [
      "Enter first number:  18\n",
      "Enter second number:  64\n"
     ]
    },
    {
     "name": "stdout",
     "output_type": "stream",
     "text": [
      "The GCD of 18 and 64 is: 2\n"
     ]
    }
   ],
   "source": [
    "def gcd(a, b):\n",
    "    while b:\n",
    "        a, b = b, a % b\n",
    "    return a\n",
    "\n",
    "num1 = int(input(\"Enter first number: \"))\n",
    "num2 = int(input(\"Enter second number: \"))\n",
    "\n",
    "result = gcd(num1, num2)\n",
    "\n",
    "print(\"The GCD of\", num1, \"and\", num2, \"is:\", result)"
   ]
  },
  {
   "cell_type": "markdown",
   "id": "d405adab-b9fb-4e21-9439-b532842e093c",
   "metadata": {},
   "source": [
    "34. Build a program that performs matrix multiplication using nested loops and conditional statements."
   ]
  },
  {
   "cell_type": "code",
   "execution_count": 3,
   "id": "4155571f-c86c-4a7a-81a6-0854febf54af",
   "metadata": {},
   "outputs": [
    {
     "data": {
      "text/plain": [
       "[[22, 28], [49, 64]]"
      ]
     },
     "execution_count": 3,
     "metadata": {},
     "output_type": "execute_result"
    }
   ],
   "source": [
    "def matrix_multiplication(m1,m2):\n",
    "    result = []\n",
    "    for i in range(len(m1)):\n",
    "        row = []\n",
    "        for j in range(len(m2[0])):\n",
    "            x = 0\n",
    "            for k in range(len(m2)):\n",
    "                x += m1[i][k] * m2[k][j]\n",
    "            row.append(x)\n",
    "        result.append(row)\n",
    "    return result\n",
    "\n",
    "m1 = [\n",
    "    [1,2,3],\n",
    "    [4,5,6]\n",
    "]\n",
    "m2 = [\n",
    "    [1,2],\n",
    "    [3,4],\n",
    "    [5,6]\n",
    "]\n",
    "matrix_multiplication(m1,m2)"
   ]
  },
  {
   "cell_type": "markdown",
   "id": "984a9ef0-2bdd-492f-9bca-1a536ae1a622",
   "metadata": {},
   "source": [
    "35. Create a program that simulates a basic text-based tic-tac-toe game against the computer."
   ]
  },
  {
   "cell_type": "code",
   "execution_count": 5,
   "id": "15f6f5b8-99b1-44a8-a508-5996e071e5c4",
   "metadata": {},
   "outputs": [
    {
     "name": "stdout",
     "output_type": "stream",
     "text": [
      "- | - | -\n",
      "- | - | -\n",
      "- | - | -\n",
      "X's Turn\n"
     ]
    },
    {
     "name": "stdin",
     "output_type": "stream",
     "text": [
      "Choose possition form 1 - 9: 1\n"
     ]
    },
    {
     "name": "stdout",
     "output_type": "stream",
     "text": [
      "X | - | -\n",
      "- | - | -\n",
      "- | - | -\n",
      "Computers Turn\n",
      "X | - | -\n",
      "- | - | -\n",
      "- | O | -\n",
      "X's Turn\n"
     ]
    },
    {
     "name": "stdin",
     "output_type": "stream",
     "text": [
      "Choose possition form 1 - 9: 2\n"
     ]
    },
    {
     "name": "stdout",
     "output_type": "stream",
     "text": [
      "X | X | -\n",
      "- | - | -\n",
      "- | O | -\n",
      "Computers Turn\n",
      "X | X | O\n",
      "- | - | -\n",
      "- | O | -\n",
      "X's Turn\n"
     ]
    },
    {
     "name": "stdin",
     "output_type": "stream",
     "text": [
      "Choose possition form 1 - 9: 5\n"
     ]
    },
    {
     "name": "stdout",
     "output_type": "stream",
     "text": [
      "X | X | O\n",
      "- | X | -\n",
      "- | O | -\n",
      "Computers Turn\n",
      "X | X | O\n",
      "- | X | -\n",
      "- | O | O\n",
      "X's Turn\n"
     ]
    },
    {
     "name": "stdin",
     "output_type": "stream",
     "text": [
      "Choose possition form 1 - 9: 6\n"
     ]
    },
    {
     "name": "stdout",
     "output_type": "stream",
     "text": [
      "X | X | O\n",
      "- | X | X\n",
      "- | O | O\n",
      "Computers Turn\n",
      "X | X | O\n",
      "O | X | X\n",
      "- | O | O\n",
      "X's Turn\n"
     ]
    },
    {
     "name": "stdin",
     "output_type": "stream",
     "text": [
      "Choose possition form 1 - 9: 7\n"
     ]
    },
    {
     "name": "stdout",
     "output_type": "stream",
     "text": [
      "X | X | O\n",
      "O | X | X\n",
      "X | O | O\n",
      "Its a tie\n"
     ]
    }
   ],
   "source": [
    "import random\n",
    "\n",
    "board = [\"-\",\"-\",\"-\",\n",
    "         \"-\",\"-\",\"-\",\n",
    "         \"-\",\"-\",\"-\"]\n",
    "def print_board():\n",
    "\n",
    "    print(board[0] + ' |',board[1] + ' |',board[2])\n",
    "    print(board[3] + ' |',board[4] + ' |',board[5])\n",
    "    print(board[6] + ' |',board[7] + ' |',board[8])\n",
    "    \n",
    "def player_turn(player):\n",
    "    print(player +\"'s Turn\")\n",
    "    choice = input('Choose possition form 1 - 9:')\n",
    "    while choice not in ['1','2','3','4','5','6','7','8','9']:\n",
    "        print('out of range, Select 1-9')\n",
    "    choice = int(choice) - 1\n",
    "    while board[choice] != '-':\n",
    "        print('possition already taken, Choose another')\n",
    "    board[choice] = player\n",
    "    print_board()\n",
    "\n",
    "def computer_turn(player):\n",
    "    print('Computers Turn')\n",
    "    avl_possition = [i for i in range(9) if board[i] == '-']\n",
    "    possition = random.choice(avl_possition)\n",
    "    board[possition] = player\n",
    "    print_board()\n",
    "    \n",
    "def check_game():\n",
    "    if (board[0] == board[1] == board[2] != \"-\") or \\\n",
    "    (board[3] == board[4] == board[5] != \"-\") or \\\n",
    "    (board[6] == board[7] == board[8] != \"-\") or \\\n",
    "    (board[0] == board[3] == board[6] != \"-\") or \\\n",
    "    (board[1] == board[4] == board[7] != \"-\") or \\\n",
    "    (board[2] == board[5] == board[8] != \"-\") or \\\n",
    "    (board[0] == board[4] == board[8] != \"-\") or \\\n",
    "    (board[2] == board[4] == board[6] != \"-\"):\n",
    "        return 'win'\n",
    "    elif '-' not in board:\n",
    "        return 'tie'\n",
    "    else:\n",
    "        return 'play'\n",
    "    \n",
    "def play_game():\n",
    "    print_board()\n",
    "    current_player = 'X'\n",
    "    game = False\n",
    "    while not game:\n",
    "        if current_player == 'X':\n",
    "            player_turn(current_player)\n",
    "        else:\n",
    "            computer_turn(current_player)\n",
    "        check = check_game()\n",
    "        if check == 'win':\n",
    "            print(current_player + ' Wins')\n",
    "            game = True\n",
    "        elif check == 'tie':\n",
    "            print('Its a tie')\n",
    "            game = True\n",
    "        else:\n",
    "            current_player = 'O' if current_player == 'X' else 'X'\n",
    "            \n",
    "if __name__ == \"__main__\":\n",
    "    play_game()"
   ]
  },
  {
   "cell_type": "markdown",
   "id": "61cec373-9cc5-4deb-a11e-ac809ae53442",
   "metadata": {},
   "source": [
    "36. Write a program that generates Fibonacci numbers up to a specified term using iterative methods."
   ]
  },
  {
   "cell_type": "code",
   "execution_count": 7,
   "id": "86f8cb9f-be08-48a9-9e42-6109f1523b8d",
   "metadata": {},
   "outputs": [
    {
     "data": {
      "text/plain": [
       "[0, 1, 1, 2, 3, 5, 8, 13, 21, 34]"
      ]
     },
     "execution_count": 7,
     "metadata": {},
     "output_type": "execute_result"
    }
   ],
   "source": [
    "def fibonacci(n):\n",
    "    fibo = [0,1]\n",
    "    if n < 0:\n",
    "        print('Eneter possitive number')\n",
    "    elif n == 1:\n",
    "        return 0\n",
    "    elif n == 2:\n",
    "        return fibo\n",
    "    for i in range(2,n):\n",
    "        fibo.append(fibo[-1] + fibo[-2])\n",
    "    return fibo\n",
    "fibonacci(10)"
   ]
  },
  {
   "cell_type": "markdown",
   "id": "52ae7cc5-e7e8-44c9-8a34-4184fee96373",
   "metadata": {},
   "source": [
    "37. Develop a program that calculates the nth term of the Fibonacci sequence using memoization."
   ]
  },
  {
   "cell_type": "code",
   "execution_count": 11,
   "id": "c84de951-cc46-44bf-bda4-f9ad7cd360d8",
   "metadata": {},
   "outputs": [
    {
     "data": {
      "text/plain": [
       "34"
      ]
     },
     "execution_count": 11,
     "metadata": {},
     "output_type": "execute_result"
    }
   ],
   "source": [
    "def fibonacci(n):\n",
    "    if n < 0:\n",
    "        print('Eneter possitive number')\n",
    "    elif n == 1:\n",
    "        return 0\n",
    "    elif n == 2:\n",
    "        return 1\n",
    "    else:\n",
    "        return fibonacci(n-1) + fibonacci(n-2)\n",
    "fibonacci(10)"
   ]
  },
  {
   "cell_type": "markdown",
   "id": "282bf28a-67d8-4415-bada-2cb52d94f770",
   "metadata": {},
   "source": [
    "38. Create a program that generates a calendar for a given month and year using conditional statements."
   ]
  },
  {
   "cell_type": "code",
   "execution_count": 23,
   "id": "88ac847b-0724-4a1d-a206-10b40c68c821",
   "metadata": {},
   "outputs": [
    {
     "name": "stdin",
     "output_type": "stream",
     "text": [
      "Enter month: 3\n",
      "Enter Year: 2024\n"
     ]
    },
    {
     "name": "stdout",
     "output_type": "stream",
     "text": [
      "Calender for 3-2024\n",
      "Mon Tue Wed Thu Fri Sat Sun\n",
      "                  1   2   3 \n",
      "  4   5   6   7   8   9  10 \n",
      " 11  12  13  14  15  16  17 \n",
      " 18  19  20  21  22  23  24 \n",
      " 25  26  27  28  29  30  31 \n",
      "\n"
     ]
    }
   ],
   "source": [
    "def is_leap(year):\n",
    "    return year % 4 == 0 and (n%100!=0 or n%400==0)\n",
    "\n",
    "def days_in_months(month, year):\n",
    "    if month in {1, 3, 5, 7, 8, 10, 12}:\n",
    "        return 31\n",
    "    elif month in {4,6,9,11}:\n",
    "        return 30\n",
    "    elif month == 2:\n",
    "        if is_leap(year):\n",
    "            return 28\n",
    "        else:\n",
    "            return 29\n",
    "    else:\n",
    "        return None\n",
    "\n",
    "def calender():\n",
    "    month = int(input('Enter month:'))\n",
    "    year = int(input('Enter Year:'))\n",
    "    days = days_in_months(month,year)\n",
    "    if days is None:\n",
    "        return 'Invalid'\n",
    "    print(f'Calender for {month}-{year}')\n",
    "    print('Mon Tue Wed Thu Fri Sat Sun')\n",
    "    \n",
    "    import datetime\n",
    "    first_day = datetime.date(year, month, 1).weekday()\n",
    "    print(\"    \" * first_day, end=\"\")\n",
    "    for day in range(1, days + 1):\n",
    "        print(f\"{day:3}\", end=\" \")\n",
    "        if (day + first_day) % 7 == 0:\n",
    "            print()\n",
    "    print()\n",
    "    \n",
    "if __name__ == \"__main__\":\n",
    "    calender()"
   ]
  },
  {
   "cell_type": "markdown",
   "id": "fb5a12fb-32ad-4b56-a6e1-56eb3bb837cc",
   "metadata": {},
   "source": [
    "39. Build a program that simulates a basic text-based blackjack game against the computer."
   ]
  },
  {
   "cell_type": "code",
   "execution_count": 25,
   "id": "47b996d3-a0dc-41b2-87b9-9791c18121b7",
   "metadata": {},
   "outputs": [
    {
     "name": "stdout",
     "output_type": "stream",
     "text": [
      "Welcome to Blackjack!\n",
      "Player's hand:\n",
      "7 of Spades\n",
      "Jack of Spades\n",
      "Dealer's hand:\n",
      "10 of Hearts\n",
      "Hidden card\n"
     ]
    },
    {
     "name": "stdin",
     "output_type": "stream",
     "text": [
      "Do you want to hit or stand? (h/s):  h\n"
     ]
    },
    {
     "name": "stdout",
     "output_type": "stream",
     "text": [
      "Player's hand:\n",
      "7 of Spades\n",
      "Jack of Spades\n",
      "5 of Clubs\n",
      "Player busts! Dealer wins.\n"
     ]
    }
   ],
   "source": [
    "import random\n",
    "\n",
    "def create_deck():\n",
    "    suits = ['Hearts', 'Diamonds', 'Clubs', 'Spades']\n",
    "    ranks = ['2', '3', '4', '5', '6', '7', '8', '9', '10', 'Jack', 'Queen', 'King', 'Ace']\n",
    "    deck = [(rank, suit) for rank in ranks for suit in suits]\n",
    "    random.shuffle(deck)\n",
    "    return deck\n",
    "\n",
    "def calculate_hand_value(hand):\n",
    "    value = 0\n",
    "    num_aces = 0\n",
    "    for card in hand:\n",
    "        rank = card[0]\n",
    "        if rank.isdigit():\n",
    "            value += int(rank)\n",
    "        elif rank in ['Jack', 'Queen', 'King']:\n",
    "            value += 10\n",
    "        else:\n",
    "            num_aces += 1\n",
    "            value += 11\n",
    "    while value > 21 and num_aces > 0:\n",
    "        value -= 10\n",
    "        num_aces -= 1\n",
    "    return value\n",
    "\n",
    "def display_hand(hand, player_name):\n",
    "    print(f\"{player_name}'s hand:\")\n",
    "    for card in hand:\n",
    "        print(card[0], \"of\", card[1])\n",
    "\n",
    "def player_choice():\n",
    "    while True:\n",
    "        choice = input(\"Do you want to hit or stand? (h/s): \").lower()\n",
    "        if choice in ['h', 's']:\n",
    "            return choice\n",
    "        else:\n",
    "            print(\"Invalid choice. Please enter 'h' to hit or 's' to stand.\")\n",
    "\n",
    "def dealer_turn(deck, dealer_hand):\n",
    "    while calculate_hand_value(dealer_hand) < 17:\n",
    "        dealer_hand.append(deck.pop())\n",
    "    return dealer_hand\n",
    "\n",
    "def determine_winner(player_hand, dealer_hand):\n",
    "    player_value = calculate_hand_value(player_hand)\n",
    "    dealer_value = calculate_hand_value(dealer_hand)\n",
    "\n",
    "    if player_value > 21:\n",
    "        return \"Player busts! Dealer wins.\"\n",
    "    elif dealer_value > 21:\n",
    "        return \"Dealer busts! Player wins.\"\n",
    "    elif player_value == dealer_value:\n",
    "        return \"It's a tie!\"\n",
    "    elif player_value > dealer_value:\n",
    "        return \"Player wins!\"\n",
    "    else:\n",
    "        return \"Dealer wins!\"\n",
    "\n",
    "def play_blackjack():\n",
    "    print(\"Welcome to Blackjack!\")\n",
    "\n",
    "    deck = create_deck()\n",
    "\n",
    "    player_hand = [deck.pop(), deck.pop()]\n",
    "    dealer_hand = [deck.pop(), deck.pop()]\n",
    "\n",
    "    display_hand(player_hand, \"Player\")\n",
    "    print(\"Dealer's hand:\")\n",
    "    print(dealer_hand[0][0], \"of\", dealer_hand[0][1])\n",
    "    print(\"Hidden card\")\n",
    "\n",
    "    while True:\n",
    "        choice = player_choice()\n",
    "        if choice == 'h':\n",
    "            player_hand.append(deck.pop())\n",
    "            display_hand(player_hand, \"Player\")\n",
    "            if calculate_hand_value(player_hand) > 21:\n",
    "                print(\"Player busts! Dealer wins.\")\n",
    "                return\n",
    "        else:\n",
    "            break\n",
    "\n",
    "    dealer_hand = dealer_turn(deck, dealer_hand)\n",
    "    print(\"Dealer's hand:\")\n",
    "    display_hand(dealer_hand, \"Dealer\")\n",
    "\n",
    "    print(determine_winner(player_hand, dealer_hand))\n",
    "\n",
    "if __name__ == \"__main__\":\n",
    "    play_blackjack()\n"
   ]
  },
  {
   "cell_type": "markdown",
   "id": "0ba069d9-e7d5-4042-8d4e-b236916b1073",
   "metadata": {},
   "source": [
    "40. Write a program that generates the prime factors of a given number using trial division."
   ]
  },
  {
   "cell_type": "code",
   "execution_count": 26,
   "id": "71e5a3ee-1b9a-44bb-9e14-6ee2c5d349c7",
   "metadata": {},
   "outputs": [
    {
     "name": "stdin",
     "output_type": "stream",
     "text": [
      "Enter a number to find its prime factors:  9\n"
     ]
    },
    {
     "name": "stdout",
     "output_type": "stream",
     "text": [
      "Prime factors of 9 are: [3, 3]\n"
     ]
    }
   ],
   "source": [
    "def prime_factors(n):\n",
    "    factors = []\n",
    "    divisor = 2\n",
    "\n",
    "    while n > 1:\n",
    "        while n % divisor == 0:\n",
    "            factors.append(divisor)\n",
    "            n //= divisor\n",
    "        divisor += 1\n",
    "\n",
    "    return factors\n",
    "\n",
    "number = int(input(\"Enter a number to find its prime factors: \"))\n",
    "result = prime_factors(number)\n",
    "print(\"Prime factors of\", number, \"are:\", result)"
   ]
  }
 ],
 "metadata": {
  "kernelspec": {
   "display_name": "Python 3 (ipykernel)",
   "language": "python",
   "name": "python3"
  },
  "language_info": {
   "codemirror_mode": {
    "name": "ipython",
    "version": 3
   },
   "file_extension": ".py",
   "mimetype": "text/x-python",
   "name": "python",
   "nbconvert_exporter": "python",
   "pygments_lexer": "ipython3",
   "version": "3.10.8"
  }
 },
 "nbformat": 4,
 "nbformat_minor": 5
}
